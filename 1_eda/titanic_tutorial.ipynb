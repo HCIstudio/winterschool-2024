{
 "cells": [
  {
   "cell_type": "markdown",
   "id": "sixth-ecology",
   "metadata": {},
   "source": [
    "# Winter School 2024 - EDA Tutorial\n",
    "\n",
    "This notebook highlights an exploratory data analysis using the example of the Titanic data set\n",
    "(https://www.kaggle.com/competitions/titanic/data).\n",
    "\n",
    "Authors: Christopher Katins, Mario Sänger, Christopher Lazik, Thomas Kosch\n",
    "Credits to Patrick Schäfer (HU Berlin)\n",
    "\n",
    "------------\n",
    "\n",
    "Contents of the Notebook:\n",
    "\n",
    "#### Part 1: Data Description and Visualization:\n",
    "\n",
    "1. Analyzing features and their distribution.\n",
    "2. Finding relations or trends between features.\n",
    "\n",
    "#### Part 2: Feature Engineering and Data Cleaning:\n",
    "\n",
    "1. Adding features.\n",
    "2. Removing features.\n",
    "3. Converting features into suitable form for modeling.\n",
    "\n",
    "#### Part 3: Predictive Modeling\n",
    "\n",
    "1. Running a simple classification algorithm.\n",
    "\n",
    "--------------------\n",
    "\n",
    "\n",
    "# Part 1: Data Description and Visualization\n",
    "\n",
    "Setup the environment and install the required packages"
   ]
  },
  {
   "cell_type": "code",
   "execution_count": null,
   "outputs": [],
   "source": [
    "!python -m venv env_eda_titanic"
   ],
   "metadata": {
    "collapsed": false
   }
  },
  {
   "cell_type": "code",
   "execution_count": null,
   "outputs": [],
   "source": [
    "!source env_eda_titanic/bin/activate"
   ],
   "metadata": {
    "collapsed": false
   }
  },
  {
   "cell_type": "code",
   "execution_count": null,
   "outputs": [],
   "source": [
    "!pip install -r requirements.txt"
   ],
   "metadata": {
    "collapsed": false
   }
  },
  {
   "cell_type": "markdown",
   "source": [
    "Import used packages and used classes / functions"
   ],
   "metadata": {
    "collapsed": false
   }
  },
  {
   "cell_type": "code",
   "execution_count": null,
   "id": "suspended-november",
   "metadata": {},
   "outputs": [],
   "source": [
    "import numpy as np\n",
    "import pandas as pd\n",
    "import seaborn as sns\n",
    "import matplotlib.pyplot as plt"
   ]
  },
  {
   "cell_type": "code",
   "execution_count": null,
   "id": "dental-roots",
   "metadata": {
    "scrolled": false
   },
   "outputs": [],
   "source": [
    "data = pd.read_csv(\"data/titanic_train.csv\")\n",
    "data"
   ]
  },
  {
   "cell_type": "markdown",
   "id": "floppy-tulsa",
   "metadata": {},
   "source": [
    "### Basic Structure\n",
    "\n",
    "Use .info() to get brief information about the dataframe"
   ]
  },
  {
   "cell_type": "code",
   "execution_count": null,
   "id": "brown-cricket",
   "metadata": {
    "scrolled": true
   },
   "outputs": [],
   "source": [
    "data.info()"
   ]
  },
  {
   "cell_type": "markdown",
   "source": [
    "#### Types of Features\n",
    "\n",
    "- Nominal Features:\n",
    "  - Name: Full name\n",
    "  - Sex: Sex of the passenger\n",
    "  - Embarked: Port of Embarkation (C = Cherbourg, Q = Queenstown, S = Southampton)\n",
    "  - Ticket: Ticket number\n",
    "  - Cabin: Cabin number\n",
    "  - Survived: Survival (0 = No, 1 = Yes)\n",
    "\n",
    "- Ordinal Features:\n",
    "  - PClass: Ticket class as a proxy for socio-economic status (1 = 1st, 2 = 2nd, 3 = 3rd)\n",
    "\n",
    "- Continuous Feature:\n",
    "  - Age: Passenger age\n",
    "  - Fare: Passenger fare\n",
    "\n",
    "- Discrete Features:\n",
    "  - SibSp: Number of siblings (brother, sister, stepbrother, stepsister)) / spouses (husband, wife) aboard the Titanic\n",
    "  - Parch: Number of parents (mother, father) / children (daughter, son, stepdaughter, stepson)*\n",
    "\n",
    "*Some children travelled only with a nanny, therefore parch=0 for them."
   ],
   "metadata": {
    "collapsed": false
   }
  },
  {
   "cell_type": "code",
   "execution_count": null,
   "id": "fatal-cheese",
   "metadata": {},
   "outputs": [],
   "source": [
    "# Get number of unique values per column\n",
    "data.nunique()"
   ]
  },
  {
   "cell_type": "markdown",
   "id": "preceding-repeat",
   "metadata": {},
   "source": [
    "### Null Values and Summary Statistics"
   ]
  },
  {
   "cell_type": "code",
   "execution_count": null,
   "id": "patient-worth",
   "metadata": {},
   "outputs": [],
   "source": [
    "# Describe basic statistics of the numerical attributes\n",
    "data.describe()"
   ]
  },
  {
   "cell_type": "code",
   "execution_count": null,
   "outputs": [],
   "source": [
    "# Describe basic statistics of the non-numerical attributes\n",
    "data.describe(include=\"O\")"
   ],
   "metadata": {
    "collapsed": false
   }
  },
  {
   "cell_type": "markdown",
   "id": "automotive-reservation",
   "metadata": {},
   "source": [
    "### Missing Values\n",
    "\n"
   ]
  },
  {
   "cell_type": "code",
   "execution_count": null,
   "id": "annoying-passage",
   "metadata": {},
   "outputs": [],
   "source": [
    "# Checking for total number of null values for each column\n",
    "data.isnull().sum().sort_values(ascending=False)"
   ]
  },
  {
   "cell_type": "markdown",
   "id": "excited-faith",
   "metadata": {},
   "source": [
    "=> The `Age`, `Cabin` and `Embarked` have null values. we will try to infer them from the data."
   ]
  },
  {
   "cell_type": "code",
   "execution_count": null,
   "id": "first-specification",
   "metadata": {},
   "outputs": [],
   "source": [
    "# Checking for duplicates in the data set\n",
    "data.duplicated().any()"
   ]
  },
  {
   "cell_type": "markdown",
   "id": "expanded-following",
   "metadata": {},
   "source": [
    "=> No duplicated rows"
   ]
  },
  {
   "cell_type": "markdown",
   "id": "fewer-course",
   "metadata": {},
   "source": [
    "### Survival rates\n",
    "\n",
    "Let's first inspect the survival rates of the passengers"
   ]
  },
  {
   "cell_type": "code",
   "execution_count": null,
   "id": "awful-topic",
   "metadata": {},
   "outputs": [],
   "source": [
    "# Create a figure with two sub-plots\n",
    "f,ax=plt.subplots(1,2,figsize=(12,6))\n",
    "\n",
    "# Pie plot for relative rates\n",
    "data[\"Survived\"].value_counts().plot.pie(explode=[0,0.05], autopct='%1.1f%%', ax=ax[0])\n",
    "ax[0].set_title('Relative Survival Rates')\n",
    "ax[0].set_ylabel('')\n",
    "\n",
    "# Bar plot for absolute rates\n",
    "sns.countplot(data, x=\"Survived\", ax=ax[1])\n",
    "ax[1].set_title(\"Absolute Survival Rate\")\n",
    "sns.despine()"
   ]
  },
  {
   "cell_type": "markdown",
   "id": "selected-revision",
   "metadata": {},
   "source": [
    "**Observation:**\n",
    "- Out of 891 passengers in training set, only around 350 survived\n",
    "- That is: 38.4% survived\n",
    "\n",
    "We will  dig down deeper to get better insights and see which features of the passengers increased the chance of survival"
   ]
  },
  {
   "cell_type": "markdown",
   "id": "vertical-assets",
   "metadata": {},
   "source": [
    "# Key Question: What influenced the chance of survival?"
   ]
  },
  {
   "cell_type": "markdown",
   "id": "nuclear-colombia",
   "metadata": {},
   "source": [
    "### Factor Sex\n",
    "\n",
    "We will first build a crosstab between Sex and Survival Rates."
   ]
  },
  {
   "cell_type": "code",
   "execution_count": null,
   "id": "juvenile-victor",
   "metadata": {},
   "outputs": [],
   "source": [
    "pd.crosstab(data[\"Sex\"],data[\"Survived\"],margins=True)  \\\n",
    "    .style.background_gradient(cmap='Blues')"
   ]
  },
  {
   "cell_type": "markdown",
   "id": "extended-guitar",
   "metadata": {},
   "source": [
    "We will next use a histogram to show the relation"
   ]
  },
  {
   "cell_type": "code",
   "execution_count": null,
   "id": "persistent-treat",
   "metadata": {},
   "outputs": [],
   "source": [
    "f,ax=plt.subplots(1,1,figsize=(6,4))\n",
    "\n",
    "ax = sns.pointplot(data, x='Sex', y='Survived', ax=ax)\n",
    "ax.set_title('Factor of Sex - Survived vs Dead')\n",
    "sns.despine()\n",
    "plt.show()"
   ]
  },
  {
   "cell_type": "markdown",
   "id": "overall-battlefield",
   "metadata": {},
   "source": [
    "**Observations:**\n",
    "\n",
    "=> Concerning female passengers: ~ 3/4 of the passengers survived\n",
    "=> For male passengers it's inverse: ~ only 1/5 of the passengers survived\n",
    "=> We can clearly see that female passengers had a much higher rate of survival."
   ]
  },
  {
   "cell_type": "markdown",
   "id": "radio-bottom",
   "metadata": {},
   "source": [
    "### Factor PClass"
   ]
  },
  {
   "cell_type": "code",
   "execution_count": null,
   "id": "domestic-riverside",
   "metadata": {},
   "outputs": [],
   "source": [
    "# Build a cross table for pclass and survived\n",
    "ct = pd.crosstab(data[\"Pclass\"],data[\"Survived\"],margins=True) \\\n",
    "    .style.background_gradient(cmap='Blues')\n",
    "display(ct)\n",
    "\n",
    "# Get the table with normalized values\n",
    "ct = pd.crosstab(data[\"Pclass\"],data[\"Survived\"],margins=True, normalize=True) \\\n",
    "    .style.background_gradient(cmap='Blues')\n",
    "display(ct)\n",
    "\n",
    "# Plot the values\n",
    "_,ax = plt.subplots(1,1,figsize=(6,4))\n",
    "sns.pointplot(data, x=\"Pclass\", y=\"Survived\", ax=ax)\n",
    "ax.set_title(\"Pclass: Survived vs. Dead\")\n",
    "sns.despine()"
   ]
  },
  {
   "cell_type": "markdown",
   "id": "recognized-korean",
   "metadata": {},
   "source": [
    "**Observations:**\n",
    "=> We can clearly see that passengers of class 1 were given a high priority while rescue."
   ]
  },
  {
   "cell_type": "markdown",
   "id": "authentic-person",
   "metadata": {},
   "source": [
    "### Sex AND Pclass\n",
    "\n",
    "Now let's look on the joint impact of Sex and Pclass"
   ]
  },
  {
   "cell_type": "code",
   "execution_count": null,
   "id": "endless-exhibit",
   "metadata": {},
   "outputs": [],
   "source": [
    "pd.crosstab([data[\"Sex\"],data[\"Survived\"]],data[\"Pclass\"],margins=True) \\\n",
    "    .style.background_gradient(cmap='Blues')"
   ]
  },
  {
   "cell_type": "code",
   "execution_count": null,
   "id": "intensive-mainland",
   "metadata": {},
   "outputs": [],
   "source": [
    "sns.catplot(data, x=\"Pclass\", y=\"Survived\", hue=\"Sex\", kind=\"point\")\n",
    "sns.despine()"
   ]
  },
  {
   "cell_type": "markdown",
   "id": "realistic-measure",
   "metadata": {},
   "source": [
    "**Observations:**\n",
    "=> The chances of survival were highest, if you were female and in the first passenger class.\n",
    "    "
   ]
  },
  {
   "cell_type": "markdown",
   "id": "geographic-distinction",
   "metadata": {},
   "source": [
    "### Age\n",
    "\n",
    "Let's inspect the age of the passengers ..."
   ]
  },
  {
   "cell_type": "code",
   "execution_count": null,
   "id": "continental-railway",
   "metadata": {},
   "outputs": [],
   "source": [
    "print('Oldest Passenger was:',data['Age'].max(),'Years')\n",
    "print('Youngest Passenger was:',data['Age'].min(),'Years')"
   ]
  },
  {
   "cell_type": "code",
   "execution_count": null,
   "id": "electrical-position",
   "metadata": {},
   "outputs": [],
   "source": [
    "fg = sns.displot(data, x=\"Age\", hue=\"Survived\", col=\"Sex\", element=\"poly\", height=3)\n",
    "fg.axes_dict[\"male\"].set_title(\"Male\")\n",
    "_ = fg.axes_dict[\"female\"].set_title(\"Female\")"
   ]
  },
  {
   "cell_type": "markdown",
   "id": "broken-repair",
   "metadata": {},
   "source": [
    "**Observations:**\n",
    "    \n",
    "1. Survival rates for passenegers below age 10 is increased\n",
    "2. Survival chances for passenegers aged 20-50 from Pclass 1 is highest, and even better for women.\n",
    "3. The Women and Child first policy thus holds true"
   ]
  },
  {
   "cell_type": "markdown",
   "id": "ordinary-harvey",
   "metadata": {},
   "source": [
    "### Filling Missing Values\n",
    "\n",
    "## Filling Age\n",
    "\n",
    "As we had seen earlier, the Age feature has 177 null values."
   ]
  },
  {
   "cell_type": "markdown",
   "source": [
    "The Name feature has a salutation like Mr or Mrs. Thus we may use it to guess the age of respective groups."
   ],
   "metadata": {
    "collapsed": false
   }
  },
  {
   "cell_type": "code",
   "execution_count": null,
   "id": "continental-origin",
   "metadata": {},
   "outputs": [],
   "source": [
    "data[[\"Name\"]].head()"
   ]
  },
  {
   "cell_type": "markdown",
   "id": "fatty-masters",
   "metadata": {},
   "source": [
    "We are using a Regex for extracting the salutation / initial of the persons. It returns strings that contain A-Z or a-z and are followed by a punctuation \".\" (dot)"
   ]
  },
  {
   "cell_type": "code",
   "execution_count": null,
   "id": "metropolitan-group",
   "metadata": {},
   "outputs": [],
   "source": [
    "data[\"Initial\"] = data[\"Name\"].str.extract('([A-Za-z]+)\\.')\n",
    "data[[\"Initial\"]].head()"
   ]
  },
  {
   "cell_type": "markdown",
   "id": "fantastic-edmonton",
   "metadata": {},
   "source": [
    "### Checking Frequency of Initial"
   ]
  },
  {
   "cell_type": "code",
   "execution_count": null,
   "id": "editorial-ivory",
   "metadata": {},
   "outputs": [],
   "source": [
    "pd.crosstab(data[\"Initial\"],data[\"Sex\"]).T \\\n",
    "    .style.background_gradient(cmap='Blues')"
   ]
  },
  {
   "cell_type": "code",
   "execution_count": null,
   "id": "finite-likelihood",
   "metadata": {},
   "outputs": [],
   "source": [
    "data.groupby(\"Initial\")[[\"Age\"]].mean()"
   ]
  },
  {
   "cell_type": "markdown",
   "id": "comic-coordinator",
   "metadata": {},
   "source": [
    "**Observations:**\n",
    "=> There are some misspelled initials like Mlle or Mme that stand for Miss"
   ]
  },
  {
   "cell_type": "code",
   "execution_count": null,
   "id": "diagnostic-malawi",
   "metadata": {},
   "outputs": [],
   "source": [
    "data[\"Initial\"].replace(\n",
    "    ['Mlle','Mme','Ms','Dr','Major','Lady','Countess','Jonkheer','Col','Rev','Capt','Sir','Don'],\n",
    "    ['Miss','Miss','Miss','Mr','Mr','Mrs','Mrs','Other','Other','Other','Mr','Mr','Mr'], inplace=True)"
   ]
  },
  {
   "cell_type": "code",
   "execution_count": null,
   "id": "civil-diploma",
   "metadata": {},
   "outputs": [],
   "source": [
    "data.groupby('Initial')[['Age']].mean()"
   ]
  },
  {
   "cell_type": "markdown",
   "id": "affecting-warner",
   "metadata": {},
   "source": [
    "**Observations:**\n",
    "=> Master can be matched to male children. Miss is less distinct."
   ]
  },
  {
   "cell_type": "markdown",
   "id": "disciplinary-growth",
   "metadata": {},
   "source": [
    "## Filling Missing Ages by Intial-Averages"
   ]
  },
  {
   "cell_type": "code",
   "execution_count": null,
   "outputs": [],
   "source": [
    "data[data[\"Age\"].isna()]"
   ],
   "metadata": {
    "collapsed": false
   }
  },
  {
   "cell_type": "code",
   "execution_count": null,
   "outputs": [],
   "source": [
    "data[\"Age\"].fillna(data.groupby(\"Initial\")[\"Age\"].transform(\"mean\"), inplace=True)"
   ],
   "metadata": {
    "collapsed": false
   }
  },
  {
   "cell_type": "code",
   "execution_count": null,
   "id": "hindu-spelling",
   "metadata": {},
   "outputs": [],
   "source": [
    "data.Age.isnull().any()"
   ]
  },
  {
   "cell_type": "code",
   "execution_count": null,
   "id": "labeled-strengthening",
   "metadata": {},
   "outputs": [],
   "source": [
    "# Inspect the survival rates per initial and Pclass\n",
    "sns.catplot(data, x=\"Pclass\", y=\"Survived\", col=\"Initial\", kind=\"point\", height=2)\n",
    "sns.despine()"
   ]
  },
  {
   "cell_type": "markdown",
   "id": "seven-chart",
   "metadata": {},
   "source": [
    "**Observation:**\n",
    "=> The Women and Child first policy thus holds true"
   ]
  },
  {
   "cell_type": "markdown",
   "id": "champion-prediction",
   "metadata": {},
   "source": [
    "### Embarked"
   ]
  },
  {
   "cell_type": "code",
   "execution_count": null,
   "id": "individual-international",
   "metadata": {},
   "outputs": [],
   "source": [
    "sns.catplot(data, x=\"Embarked\", y=\"Survived\", kind=\"point\", height=3);"
   ]
  },
  {
   "cell_type": "markdown",
   "id": "unable-walker",
   "metadata": {},
   "source": [
    "**Observations:**\n",
    "=> The chances for survival for Port C (Cherbourg) is highest around 0.55 while it is lowest for S (Southampton)."
   ]
  },
  {
   "cell_type": "code",
   "execution_count": null,
   "id": "second-airfare",
   "metadata": {},
   "outputs": [],
   "source": [
    "sns.catplot(data, x=\"Pclass\",y=\"Survived\", kind=\"point\", hue=\"Sex\", col=\"Embarked\", height=3);"
   ]
  },
  {
   "cell_type": "markdown",
   "id": "realistic-testing",
   "metadata": {},
   "source": [
    "**Observations:**\n",
    "\n",
    "- The survival rates are ~1 for women from Pclass 1 and Pclass 2 irrespective of the port\n",
    "- Port S is worst for Pclass 3\n",
    "- Port Q is worst for Men"
   ]
  },
  {
   "cell_type": "markdown",
   "id": "developed-photographer",
   "metadata": {},
   "source": [
    "# Filling Emarked NaN\n",
    "\n",
    "There are two missing values for `Embarked`\n"
   ]
  },
  {
   "cell_type": "code",
   "execution_count": null,
   "id": "reserved-diabetes",
   "metadata": {
    "scrolled": false
   },
   "outputs": [],
   "source": [
    "data[data[\"Embarked\"].isnull()]"
   ]
  },
  {
   "cell_type": "code",
   "execution_count": null,
   "id": "organizational-equilibrium",
   "metadata": {},
   "outputs": [],
   "source": [
    "# Let's check which is the port with the highest number of entering passengers\n",
    "data[\"Embarked\"].mode()"
   ]
  },
  {
   "cell_type": "code",
   "execution_count": null,
   "outputs": [],
   "source": [
    "data[\"Embarked\"].value_counts(normalize=True)"
   ],
   "metadata": {
    "collapsed": false
   }
  },
  {
   "cell_type": "markdown",
   "source": [
    "As we saw that most passengers boarded from Port S, we replace NaN with S."
   ],
   "metadata": {
    "collapsed": false
   }
  },
  {
   "cell_type": "code",
   "execution_count": null,
   "id": "younger-ability",
   "metadata": {},
   "outputs": [],
   "source": [
    "data[\"Embarked\"].fillna(\"S\", inplace=True)\n",
    "data[\"Embarked\"].isnull().any()"
   ]
  },
  {
   "cell_type": "markdown",
   "id": "inappropriate-economy",
   "metadata": {},
   "source": [
    "### SibSip\n",
    "\n",
    "This feature represents whether a person is alone or with his family members.\n",
    "\n",
    "Sibling = brother, sister, stepbrother, stepsister\n",
    "\n",
    "Spouse = husband, wife"
   ]
  },
  {
   "cell_type": "code",
   "execution_count": null,
   "id": "previous-africa",
   "metadata": {},
   "outputs": [],
   "source": [
    "pd.crosstab(data[\"SibSp\"], data[\"Survived\"], normalize=True) \\\n",
    "    .style.background_gradient(cmap='Blues')"
   ]
  },
  {
   "cell_type": "code",
   "execution_count": null,
   "id": "reserved-calcium",
   "metadata": {
    "scrolled": true
   },
   "outputs": [],
   "source": [
    "pd.crosstab(data[\"SibSp\"],data[\"Pclass\"], normalize=True) \\\n",
    "    .style.background_gradient(cmap='Blues')"
   ]
  },
  {
   "cell_type": "code",
   "execution_count": null,
   "id": "several-tribute",
   "metadata": {},
   "outputs": [],
   "source": [
    "f,ax=plt.subplots(figsize=(8,4))\n",
    "sns.pointplot(data, x=\"SibSp\", y=\"Survived\", hue=\"Pclass\", palette=\"colorblind\", ax=ax)\n",
    "ax.set_title(\"SibSp vs Survived\")"
   ]
  },
  {
   "cell_type": "markdown",
   "id": "worst-window",
   "metadata": {},
   "source": [
    "**Observations:**\n",
    "- Plcass 1 and 2 had highest chances of survival\n",
    "- Families with 3 Members had highest chances of survival\n",
    "- Families >3 were only in Pclass 3\n",
    "- Survival for families with >5 members is 0%. \n"
   ]
  },
  {
   "cell_type": "markdown",
   "id": "acting-africa",
   "metadata": {},
   "source": [
    "### Fare"
   ]
  },
  {
   "cell_type": "code",
   "execution_count": null,
   "id": "incorrect-excerpt",
   "metadata": {},
   "outputs": [],
   "source": [
    "print('Highest Fare was:',data['Fare'].max())\n",
    "print('Lowest Fare was:',data['Fare'].min())\n",
    "print('Average Fare was:',data['Fare'].mean())"
   ]
  },
  {
   "cell_type": "code",
   "execution_count": null,
   "id": "joint-ivory",
   "metadata": {},
   "outputs": [],
   "source": [
    "f,ax=plt.subplots(1,3,figsize=(12,4))\n",
    "\n",
    "sns.histplot(x=data[data['Pclass']==1].Fare,kde=True,ax=ax[0])\n",
    "ax[0].set_title('Fares in Pclass 1')\n",
    "\n",
    "sns.histplot(x=data[data['Pclass']==2].Fare,kde=True,ax=ax[1])\n",
    "ax[1].set_title('Fares in Pclass 2')\n",
    "\n",
    "sns.histplot(x=data[data['Pclass']==3].Fare,kde=True,ax=ax[2])\n",
    "ax[2].set_title('Fares in Pclass 3')\n",
    "\n",
    "plt.show()\n",
    "sns.boxplot(x=\"Pclass\", y=\"Fare\", hue=\"Sex\", data=data);"
   ]
  },
  {
   "cell_type": "markdown",
   "id": "political-chassis",
   "metadata": {},
   "source": [
    "**Observation:**\n",
    "=> There seems to be a large spread in distributions of fares. Some outliers."
   ]
  },
  {
   "cell_type": "markdown",
   "id": "statutory-softball",
   "metadata": {},
   "source": [
    "### Log transformed Data\n",
    "\n",
    "Let's see how the distributions look if we log transform the data"
   ]
  },
  {
   "cell_type": "code",
   "execution_count": null,
   "id": "completed-blogger",
   "metadata": {},
   "outputs": [],
   "source": [
    "def get_log_fare(data, pclass):\n",
    "    fare = data[data['Pclass']==pclass][\"Fare\"]\n",
    "    return np.log2(fare[fare>0])\n",
    "\n",
    "f,ax=plt.subplots(1,3,figsize=(12,4))\n",
    "sns.histplot(x=get_log_fare(data, 1), kde=True, ax=ax[0])\n",
    "sns.despine()\n",
    "ax[0].set_title('Fares in Pclass 1')\n",
    "\n",
    "sns.histplot(x=get_log_fare(data, 2), kde=True, ax=ax[1])\n",
    "sns.despine()\n",
    "ax[1].set_title('Fares in Pclass 2')\n",
    "\n",
    "sns.histplot(x=get_log_fare(data, 3), kde=True, ax=ax[2])\n",
    "sns.despine()\n",
    "_ = ax[2].set_title('Fares in Pclass 3')"
   ]
  },
  {
   "cell_type": "markdown",
   "source": [
    "**Observation:**\n",
    "=> Still difficult to interpret the observations due to high variance :-("
   ],
   "metadata": {
    "collapsed": false
   }
  },
  {
   "cell_type": "markdown",
   "id": "boxed-friendship",
   "metadata": {},
   "source": [
    "## QQ-Plot - Test for Normality\n",
    "\n",
    "Quantile-quantile plots (QQ-Plots) are a graphical tool used to assess whether a set of data follows a particular probability distribution (e.g. normal distribution)"
   ]
  },
  {
   "cell_type": "code",
   "execution_count": null,
   "id": "pleasant-range",
   "metadata": {},
   "outputs": [],
   "source": [
    "import statsmodels.api as sm\n",
    "ax = sm.qqplot(get_log_fare(data, 1), fit=True, line=\"45\");\n",
    "ax.suptitle(\"Plcass 1\")\n",
    "sm.qqplot(get_log_fare(data, 2), fit=True, line=\"45\");\n",
    "sm.qqplot(get_log_fare(data, 3), fit=True, line=\"45\");"
   ]
  },
  {
   "cell_type": "markdown",
   "id": "solid-cabinet",
   "metadata": {},
   "source": [
    "**Observation**: No signs of normal distribution, even for log-transformed data"
   ]
  },
  {
   "cell_type": "markdown",
   "id": "fabulous-breathing",
   "metadata": {},
   "source": [
    "# Part 2: Feature Engineering and Data Cleaning"
   ]
  },
  {
   "cell_type": "markdown",
   "id": "domestic-tyler",
   "metadata": {},
   "source": [
    "# Family_Size and Alone"
   ]
  },
  {
   "cell_type": "code",
   "execution_count": null,
   "id": "rocky-census",
   "metadata": {},
   "outputs": [],
   "source": [
    "data['Family_Size'] = 0\n",
    "data['Family_Size'] = data['Parch']+data['SibSp']\n",
    "data['Alone'] = data.Family_Size==0\n",
    "\n",
    "ax = sns.pointplot(x='Alone',y='Survived', hue=\"Pclass\", data=data)\n",
    "ax.set_title(\"Traveling Alone\");"
   ]
  },
  {
   "cell_type": "markdown",
   "id": "rubber-modern",
   "metadata": {},
   "source": [
    "**Observation** If you were alone then chances for survival is very low. \n"
   ]
  },
  {
   "cell_type": "code",
   "execution_count": null,
   "id": "attractive-place",
   "metadata": {},
   "outputs": [],
   "source": [
    "ax = sns.pointplot(x='Alone',y='Survived',data=data, hue='Sex')"
   ]
  },
  {
   "cell_type": "markdown",
   "id": "powerful-petroleum",
   "metadata": {},
   "source": [
    "Observation: chances of females, who are alone, are higher than those with family."
   ]
  },
  {
   "cell_type": "markdown",
   "id": "annual-survivor",
   "metadata": {},
   "source": [
    "# Outlier Handling - Binning Fares"
   ]
  },
  {
   "cell_type": "code",
   "execution_count": null,
   "id": "developmental-norfolk",
   "metadata": {
    "scrolled": false
   },
   "outputs": [],
   "source": [
    "data['Fare_Range'] = pd.qcut(data['Fare'],4,labels=[\"Small\",\"Medium\",\"Large\", \"Rich\"])\n",
    "data.groupby(['Fare_Range'])['Survived'].mean().to_frame().style.background_gradient(cmap='Blues')"
   ]
  },
  {
   "cell_type": "markdown",
   "id": "polar-toyota",
   "metadata": {},
   "source": [
    "**Observation:** We observe that as the fare increases, the chances of survival increases.\n"
   ]
  },
  {
   "cell_type": "markdown",
   "id": "transsexual-resort",
   "metadata": {},
   "source": [
    "# Encoding Categorical Values"
   ]
  },
  {
   "cell_type": "code",
   "execution_count": null,
   "id": "foster-strap",
   "metadata": {},
   "outputs": [],
   "source": [
    "data_numerical = pd.get_dummies(data, columns=['Sex'], prefix='is')\n",
    "data_numerical = pd.get_dummies(data_numerical, columns=['Embarked'], prefix='is')\n",
    "data_numerical = pd.get_dummies(data_numerical, columns=['Initial'], prefix='is')\n",
    "data_numerical = pd.get_dummies(data_numerical, columns=['Fare_Range'], prefix='is')"
   ]
  },
  {
   "cell_type": "markdown",
   "id": "growing-direction",
   "metadata": {},
   "source": [
    "# Correlation Between The Numerical Features"
   ]
  },
  {
   "cell_type": "code",
   "execution_count": null,
   "id": "advised-offense",
   "metadata": {},
   "outputs": [],
   "source": [
    "fig, ax = plt.subplots(figsize=(16,12))\n",
    "sns.heatmap(data_numerical.corr(numeric_only=True), annot=True, linewidths=0.2, ax=ax)\n",
    "plt.tight_layout()\n",
    "plt.show()"
   ]
  },
  {
   "cell_type": "markdown",
   "id": "large-factor",
   "metadata": {},
   "source": [
    "There is high correlation between `survived` and `Pclass`, `Fare`, `is_female`, `is_male` `is_S`, `is_C`, `is_Mr`, `is_Mrs`, `is_Miss`, `alone`, `is_rich`"
   ]
  },
  {
   "cell_type": "markdown",
   "id": "broken-christopher",
   "metadata": {},
   "source": [
    "# Observations in a Nutshell for all features:\n",
    "\n",
    "- Sex: \n",
    "    - The chance of survival for women is high as compared to men\n",
    "- Pclass: \n",
    "    - Fares varied significantly with few passengers (<1%) paying as high as $512\n",
    "    - The more you pay, the better chances of survival\n",
    "    - The survival rate for Pclass3 is very low\n",
    "- Age: \n",
    "    - Children between 5-10 years do have a high chance of survival\n",
    "- Embarked: \n",
    "    - The chances of survival at C and S were high for lower passenger classes\n",
    "- Parch+SibSp: \n",
    "    - Having a small family  gives a greater chance of than traveling alone (as male) or having a large family travelling with you\n",
    "    - Females travel best alone"
   ]
  },
  {
   "cell_type": "markdown",
   "id": "partial-mason",
   "metadata": {},
   "source": [
    "# Part 3: Predictive Modeling\n",
    "\n",
    "- We have gained insights from the EDA \n",
    "- Using this insights, we cannot accurately predict whether a passenger will survive or not\n",
    "- So we may use a classification algorithm to predict whether the Passenger will survive\n"
   ]
  },
  {
   "cell_type": "code",
   "execution_count": null,
   "id": "detected-titanium",
   "metadata": {},
   "outputs": [],
   "source": [
    "from sklearn.linear_model import RidgeClassifierCV\n",
    "from sklearn.preprocessing import StandardScaler\n",
    "from sklearn.pipeline import make_pipeline\n",
    "\n",
    "# display(data_numerical.head())\n",
    "train_y = data_numerical['Survived']\n",
    "train_X = data_numerical.drop(columns=['Survived', 'Name', 'Ticket', 'Cabin'])\n",
    "\n",
    "# Scaled data has zero mean and unit variance:\n",
    "# deprecated:\n",
    "# train_X = StandardScaler().fit_transform(train_X)\n",
    "# clf = RidgeClassifierCV(alphas=np.logspace(-3, 3, 10), normalize=True).fit(train_X, train_y)\n",
    "# score = clf.score(train_X, train_y)\n",
    "# print (\"Accuracy of Model: \", score)\n",
    "\n",
    "# Train Regression model\n",
    "clf = make_pipeline(StandardScaler(), \n",
    "                    RidgeClassifierCV(alphas=np.logspace(-3, 3, 10))).fit(train_X, train_y)\n",
    "score = clf.score(train_X, train_y)\n",
    "\n",
    "print (\"Accuracy of Model: \", score)"
   ]
  },
  {
   "cell_type": "code",
   "execution_count": null,
   "id": "refined-beauty",
   "metadata": {},
   "outputs": [],
   "source": []
  }
 ],
 "metadata": {
  "kernelspec": {
   "display_name": "Python 3 (ipykernel)",
   "language": "python",
   "name": "python3"
  },
  "language_info": {
   "codemirror_mode": {
    "name": "ipython",
    "version": 3
   },
   "file_extension": ".py",
   "mimetype": "text/x-python",
   "name": "python",
   "nbconvert_exporter": "python",
   "pygments_lexer": "ipython3",
   "version": "3.8.12"
  }
 },
 "nbformat": 4,
 "nbformat_minor": 5
}
