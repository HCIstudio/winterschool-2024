{
 "cells": [
  {
   "cell_type": "code",
   "execution_count": 1,
   "metadata": {
    "collapsed": true,
    "ExecuteTime": {
     "end_time": "2024-02-08T13:46:45.688611Z",
     "start_time": "2024-02-08T13:46:43.075577Z"
    }
   },
   "outputs": [],
   "source": [
    "from pandas import Series\n",
    "!python -m venv env_eda_example"
   ]
  },
  {
   "cell_type": "code",
   "execution_count": 2,
   "outputs": [],
   "source": [
    "!source env_eda_example/bin/activate"
   ],
   "metadata": {
    "collapsed": false,
    "ExecuteTime": {
     "end_time": "2024-02-08T13:46:50.217679Z",
     "start_time": "2024-02-08T13:46:50.074933Z"
    }
   }
  },
  {
   "cell_type": "code",
   "execution_count": 4,
   "outputs": [
    {
     "name": "stdout",
     "output_type": "stream",
     "text": [
      "Requirement already satisfied: pandas in /Users/mario/anaconda3/envs/winterschool/lib/python3.10/site-packages (from -r requirements.txt (line 1)) (2.2.0)\r\n",
      "Requirement already satisfied: seaborn in /Users/mario/anaconda3/envs/winterschool/lib/python3.10/site-packages (from -r requirements.txt (line 2)) (0.13.2)\r\n",
      "Requirement already satisfied: matplotlib==3.7.3 in /Users/mario/anaconda3/envs/winterschool/lib/python3.10/site-packages (from -r requirements.txt (line 3)) (3.7.3)\r\n",
      "Requirement already satisfied: contourpy>=1.0.1 in /Users/mario/anaconda3/envs/winterschool/lib/python3.10/site-packages (from matplotlib==3.7.3->-r requirements.txt (line 3)) (1.2.0)\r\n",
      "Requirement already satisfied: cycler>=0.10 in /Users/mario/anaconda3/envs/winterschool/lib/python3.10/site-packages (from matplotlib==3.7.3->-r requirements.txt (line 3)) (0.12.1)\r\n",
      "Requirement already satisfied: fonttools>=4.22.0 in /Users/mario/anaconda3/envs/winterschool/lib/python3.10/site-packages (from matplotlib==3.7.3->-r requirements.txt (line 3)) (4.48.1)\r\n",
      "Requirement already satisfied: kiwisolver>=1.0.1 in /Users/mario/anaconda3/envs/winterschool/lib/python3.10/site-packages (from matplotlib==3.7.3->-r requirements.txt (line 3)) (1.4.5)\r\n",
      "Requirement already satisfied: numpy<2,>=1.20 in /Users/mario/anaconda3/envs/winterschool/lib/python3.10/site-packages (from matplotlib==3.7.3->-r requirements.txt (line 3)) (1.26.4)\r\n",
      "Requirement already satisfied: packaging>=20.0 in /Users/mario/anaconda3/envs/winterschool/lib/python3.10/site-packages (from matplotlib==3.7.3->-r requirements.txt (line 3)) (23.1)\r\n",
      "Requirement already satisfied: pillow>=6.2.0 in /Users/mario/anaconda3/envs/winterschool/lib/python3.10/site-packages (from matplotlib==3.7.3->-r requirements.txt (line 3)) (10.2.0)\r\n",
      "Requirement already satisfied: pyparsing>=2.3.1 in /Users/mario/anaconda3/envs/winterschool/lib/python3.10/site-packages (from matplotlib==3.7.3->-r requirements.txt (line 3)) (3.1.1)\r\n",
      "Requirement already satisfied: python-dateutil>=2.7 in /Users/mario/anaconda3/envs/winterschool/lib/python3.10/site-packages (from matplotlib==3.7.3->-r requirements.txt (line 3)) (2.8.2)\r\n",
      "Requirement already satisfied: pytz>=2020.1 in /Users/mario/anaconda3/envs/winterschool/lib/python3.10/site-packages (from pandas->-r requirements.txt (line 1)) (2023.3.post1)\r\n",
      "Requirement already satisfied: tzdata>=2022.7 in /Users/mario/anaconda3/envs/winterschool/lib/python3.10/site-packages (from pandas->-r requirements.txt (line 1)) (2023.4)\r\n",
      "Requirement already satisfied: six>=1.5 in /Users/mario/anaconda3/envs/winterschool/lib/python3.10/site-packages (from python-dateutil>=2.7->matplotlib==3.7.3->-r requirements.txt (line 3)) (1.16.0)\r\n"
     ]
    }
   ],
   "source": [
    "!pip install -r requirements.txt"
   ],
   "metadata": {
    "collapsed": false,
    "ExecuteTime": {
     "end_time": "2024-02-08T13:47:13.005670Z",
     "start_time": "2024-02-08T13:47:11.973991Z"
    }
   }
  },
  {
   "cell_type": "markdown",
   "source": [
    "**Loading the data set**"
   ],
   "metadata": {
    "collapsed": false
   }
  },
  {
   "cell_type": "code",
   "execution_count": 53,
   "outputs": [],
   "source": [
    "import pandas as pd\n",
    "import numpy as np\n",
    "import seaborn as sns\n",
    "import matplotlib.pyplot as plt\n",
    "\n",
    "from pandas import Series"
   ],
   "metadata": {
    "collapsed": false,
    "ExecuteTime": {
     "end_time": "2024-02-08T14:24:33.131073Z",
     "start_time": "2024-02-08T14:24:33.126483Z"
    }
   }
  },
  {
   "cell_type": "code",
   "execution_count": 40,
   "outputs": [
    {
     "data": {
      "text/plain": "  First Name  Gender Start Date Last Login Time  Salary  Bonus %  \\\n0    Douglas    Male   8/6/1993        12:42 PM   97308    6.945   \n1     Thomas    Male  3/31/1996         6:53 AM   61933    4.170   \n2      Maria  Female  4/23/1993        11:17 AM  130590   11.858   \n3      Jerry    Male   3/4/2005         1:00 PM  138705    9.340   \n4      Larry    Male  1/24/1998         4:47 PM  101004    1.389   \n\n  Senior Management             Team  \n0              True        Marketing  \n1              True              NaN  \n2             False          Finance  \n3              True          Finance  \n4              True  Client Services  ",
      "text/html": "<div>\n<style scoped>\n    .dataframe tbody tr th:only-of-type {\n        vertical-align: middle;\n    }\n\n    .dataframe tbody tr th {\n        vertical-align: top;\n    }\n\n    .dataframe thead th {\n        text-align: right;\n    }\n</style>\n<table border=\"1\" class=\"dataframe\">\n  <thead>\n    <tr style=\"text-align: right;\">\n      <th></th>\n      <th>First Name</th>\n      <th>Gender</th>\n      <th>Start Date</th>\n      <th>Last Login Time</th>\n      <th>Salary</th>\n      <th>Bonus %</th>\n      <th>Senior Management</th>\n      <th>Team</th>\n    </tr>\n  </thead>\n  <tbody>\n    <tr>\n      <th>0</th>\n      <td>Douglas</td>\n      <td>Male</td>\n      <td>8/6/1993</td>\n      <td>12:42 PM</td>\n      <td>97308</td>\n      <td>6.945</td>\n      <td>True</td>\n      <td>Marketing</td>\n    </tr>\n    <tr>\n      <th>1</th>\n      <td>Thomas</td>\n      <td>Male</td>\n      <td>3/31/1996</td>\n      <td>6:53 AM</td>\n      <td>61933</td>\n      <td>4.170</td>\n      <td>True</td>\n      <td>NaN</td>\n    </tr>\n    <tr>\n      <th>2</th>\n      <td>Maria</td>\n      <td>Female</td>\n      <td>4/23/1993</td>\n      <td>11:17 AM</td>\n      <td>130590</td>\n      <td>11.858</td>\n      <td>False</td>\n      <td>Finance</td>\n    </tr>\n    <tr>\n      <th>3</th>\n      <td>Jerry</td>\n      <td>Male</td>\n      <td>3/4/2005</td>\n      <td>1:00 PM</td>\n      <td>138705</td>\n      <td>9.340</td>\n      <td>True</td>\n      <td>Finance</td>\n    </tr>\n    <tr>\n      <th>4</th>\n      <td>Larry</td>\n      <td>Male</td>\n      <td>1/24/1998</td>\n      <td>4:47 PM</td>\n      <td>101004</td>\n      <td>1.389</td>\n      <td>True</td>\n      <td>Client Services</td>\n    </tr>\n  </tbody>\n</table>\n</div>"
     },
     "execution_count": 40,
     "metadata": {},
     "output_type": "execute_result"
    }
   ],
   "source": [
    "data = pd.read_csv(\"data/employees.csv\")\n",
    "data.head()"
   ],
   "metadata": {
    "collapsed": false,
    "ExecuteTime": {
     "end_time": "2024-02-08T14:11:37.380451Z",
     "start_time": "2024-02-08T14:11:37.363212Z"
    }
   }
  },
  {
   "cell_type": "markdown",
   "source": [
    "**Basic data inspection**"
   ],
   "metadata": {
    "collapsed": false
   }
  },
  {
   "cell_type": "code",
   "execution_count": 9,
   "outputs": [
    {
     "name": "stdout",
     "output_type": "stream",
     "text": [
      "<class 'pandas.core.frame.DataFrame'>\n",
      "RangeIndex: 1000 entries, 0 to 999\n",
      "Data columns (total 8 columns):\n",
      " #   Column             Non-Null Count  Dtype  \n",
      "---  ------             --------------  -----  \n",
      " 0   First Name         933 non-null    object \n",
      " 1   Gender             855 non-null    object \n",
      " 2   Start Date         1000 non-null   object \n",
      " 3   Last Login Time    1000 non-null   object \n",
      " 4   Salary             1000 non-null   int64  \n",
      " 5   Bonus %            1000 non-null   float64\n",
      " 6   Senior Management  933 non-null    object \n",
      " 7   Team               957 non-null    object \n",
      "dtypes: float64(1), int64(1), object(6)\n",
      "memory usage: 62.6+ KB\n"
     ]
    }
   ],
   "source": [
    "# Get basic information about the stored data\n",
    "data.info()"
   ],
   "metadata": {
    "collapsed": false,
    "ExecuteTime": {
     "end_time": "2024-02-08T13:50:25.632348Z",
     "start_time": "2024-02-08T13:50:25.626910Z"
    }
   }
  },
  {
   "cell_type": "code",
   "execution_count": 10,
   "outputs": [
    {
     "data": {
      "text/plain": "              Salary      Bonus %\ncount    1000.000000  1000.000000\nmean    90662.181000    10.207555\nstd     32923.693342     5.528481\nmin     35013.000000     1.015000\n25%     62613.000000     5.401750\n50%     90428.000000     9.838500\n75%    118740.250000    14.838000\nmax    149908.000000    19.944000",
      "text/html": "<div>\n<style scoped>\n    .dataframe tbody tr th:only-of-type {\n        vertical-align: middle;\n    }\n\n    .dataframe tbody tr th {\n        vertical-align: top;\n    }\n\n    .dataframe thead th {\n        text-align: right;\n    }\n</style>\n<table border=\"1\" class=\"dataframe\">\n  <thead>\n    <tr style=\"text-align: right;\">\n      <th></th>\n      <th>Salary</th>\n      <th>Bonus %</th>\n    </tr>\n  </thead>\n  <tbody>\n    <tr>\n      <th>count</th>\n      <td>1000.000000</td>\n      <td>1000.000000</td>\n    </tr>\n    <tr>\n      <th>mean</th>\n      <td>90662.181000</td>\n      <td>10.207555</td>\n    </tr>\n    <tr>\n      <th>std</th>\n      <td>32923.693342</td>\n      <td>5.528481</td>\n    </tr>\n    <tr>\n      <th>min</th>\n      <td>35013.000000</td>\n      <td>1.015000</td>\n    </tr>\n    <tr>\n      <th>25%</th>\n      <td>62613.000000</td>\n      <td>5.401750</td>\n    </tr>\n    <tr>\n      <th>50%</th>\n      <td>90428.000000</td>\n      <td>9.838500</td>\n    </tr>\n    <tr>\n      <th>75%</th>\n      <td>118740.250000</td>\n      <td>14.838000</td>\n    </tr>\n    <tr>\n      <th>max</th>\n      <td>149908.000000</td>\n      <td>19.944000</td>\n    </tr>\n  </tbody>\n</table>\n</div>"
     },
     "execution_count": 10,
     "metadata": {},
     "output_type": "execute_result"
    }
   ],
   "source": [
    "# Get basic statistics of the numerical features\n",
    "data.describe()"
   ],
   "metadata": {
    "collapsed": false,
    "ExecuteTime": {
     "end_time": "2024-02-08T13:51:34.790538Z",
     "start_time": "2024-02-08T13:51:34.783313Z"
    }
   }
  },
  {
   "cell_type": "code",
   "execution_count": 11,
   "outputs": [
    {
     "data": {
      "text/plain": "       First Name  Gender  Start Date Last Login Time Senior Management  \\\ncount         933     855        1000            1000               933   \nunique        200       2         972             720                 2   \ntop       Marilyn  Female  10/30/1994         1:35 PM              True   \nfreq           11     431           2               5               468   \n\n                   Team  \ncount               957  \nunique               10  \ntop     Client Services  \nfreq                106  ",
      "text/html": "<div>\n<style scoped>\n    .dataframe tbody tr th:only-of-type {\n        vertical-align: middle;\n    }\n\n    .dataframe tbody tr th {\n        vertical-align: top;\n    }\n\n    .dataframe thead th {\n        text-align: right;\n    }\n</style>\n<table border=\"1\" class=\"dataframe\">\n  <thead>\n    <tr style=\"text-align: right;\">\n      <th></th>\n      <th>First Name</th>\n      <th>Gender</th>\n      <th>Start Date</th>\n      <th>Last Login Time</th>\n      <th>Senior Management</th>\n      <th>Team</th>\n    </tr>\n  </thead>\n  <tbody>\n    <tr>\n      <th>count</th>\n      <td>933</td>\n      <td>855</td>\n      <td>1000</td>\n      <td>1000</td>\n      <td>933</td>\n      <td>957</td>\n    </tr>\n    <tr>\n      <th>unique</th>\n      <td>200</td>\n      <td>2</td>\n      <td>972</td>\n      <td>720</td>\n      <td>2</td>\n      <td>10</td>\n    </tr>\n    <tr>\n      <th>top</th>\n      <td>Marilyn</td>\n      <td>Female</td>\n      <td>10/30/1994</td>\n      <td>1:35 PM</td>\n      <td>True</td>\n      <td>Client Services</td>\n    </tr>\n    <tr>\n      <th>freq</th>\n      <td>11</td>\n      <td>431</td>\n      <td>2</td>\n      <td>5</td>\n      <td>468</td>\n      <td>106</td>\n    </tr>\n  </tbody>\n</table>\n</div>"
     },
     "execution_count": 11,
     "metadata": {},
     "output_type": "execute_result"
    }
   ],
   "source": [
    "# Get basic information of the other columns\n",
    "data.describe(include=\"O\")"
   ],
   "metadata": {
    "collapsed": false,
    "ExecuteTime": {
     "end_time": "2024-02-08T13:51:50.805228Z",
     "start_time": "2024-02-08T13:51:50.797723Z"
    }
   }
  },
  {
   "cell_type": "code",
   "execution_count": 21,
   "outputs": [
    {
     "data": {
      "text/plain": "Gender                 2\nSenior Management      2\nTeam                  10\nFirst Name           200\nLast Login Time      720\nBonus %              971\nStart Date           972\nSalary               995\ndtype: int64"
     },
     "execution_count": 21,
     "metadata": {},
     "output_type": "execute_result"
    }
   ],
   "source": [
    "# Inspect the number of unique values per column\n",
    "data.nunique().sort_values()"
   ],
   "metadata": {
    "collapsed": false,
    "ExecuteTime": {
     "end_time": "2024-02-08T13:55:12.921145Z",
     "start_time": "2024-02-08T13:55:12.913313Z"
    }
   }
  },
  {
   "cell_type": "code",
   "execution_count": 24,
   "outputs": [
    {
     "data": {
      "text/plain": "Gender               145\nFirst Name            67\nSenior Management     67\nTeam                  43\nStart Date             0\nLast Login Time        0\nSalary                 0\nBonus %                0\ndtype: int64"
     },
     "execution_count": 24,
     "metadata": {},
     "output_type": "execute_result"
    }
   ],
   "source": [
    "data.isnull().sum().sort_values(ascending=False)"
   ],
   "metadata": {
    "collapsed": false,
    "ExecuteTime": {
     "end_time": "2024-02-08T13:55:55.687466Z",
     "start_time": "2024-02-08T13:55:55.682125Z"
    }
   }
  },
  {
   "cell_type": "markdown",
   "source": [
    "**Oberservations:**\n",
    "=> For four columns (Gender, First Name, Senior Management and Team) we have multiple rows with missing values\n",
    "=> Handling these missing values there can be several cases like dropping the rows containing NaN or replacing NaN with either mean, median, mode, or some other value"
   ],
   "metadata": {
    "collapsed": false
   }
  },
  {
   "cell_type": "markdown",
   "source": [
    "### Gender\n",
    "\n",
    "Alternative 1: fill nan values with \"No Gender\""
   ],
   "metadata": {
    "collapsed": false
   }
  },
  {
   "cell_type": "code",
   "execution_count": null,
   "outputs": [],
   "source": [
    "#data[\"Gender\"].fillna(\"No Gender\", inplace = True)"
   ],
   "metadata": {
    "collapsed": false
   }
  },
  {
   "cell_type": "markdown",
   "source": [
    "Alternative 2: try to infer the gender by the first name"
   ],
   "metadata": {
    "collapsed": false
   }
  },
  {
   "cell_type": "code",
   "execution_count": 33,
   "outputs": [
    {
     "data": {
      "text/plain": "Series([], Name: First Name, dtype: object)"
     },
     "execution_count": 33,
     "metadata": {},
     "output_type": "execute_result"
    }
   ],
   "source": [
    "data[data[\"Gender\"].isna()][\"First Name\"]"
   ],
   "metadata": {
    "collapsed": false,
    "ExecuteTime": {
     "end_time": "2024-02-08T14:10:03.001882Z",
     "start_time": "2024-02-08T14:10:02.996528Z"
    }
   }
  },
  {
   "cell_type": "code",
   "execution_count": 41,
   "outputs": [],
   "source": [
    "# Prepare dictionaries with name <> gender associations\n",
    "male_names = {\"Richard\", \"Steve\", \"Matthew\", \"Charles\", \"Peter\", \"Jimmy\", \"Nicholas\"}\n",
    "female_names = {\"Jessica\", \"Deborah\", \"Sarah\", \"Helen\", \"Barbara\", \"Beverly\"}\n",
    "\n",
    "def infer_gender(row: Series) -> str:\n",
    "    if not pd.isna(row[\"Gender\"]):\n",
    "        return row[\"Gender\"]\n",
    "\n",
    "    if pd.isna(row[\"First Name\"]):\n",
    "        return \"No Gender\"\n",
    "\n",
    "    if row[\"First Name\"] in male_names:\n",
    "        return \"Male\"\n",
    "    elif row[\"First Name\"] in female_names:\n",
    "        return \"Female\"\n",
    "    else:\n",
    "        return \"No Gender\"\n",
    "\n",
    "# Apply the defined function per row\n",
    "data[\"Gender\"] = data.apply(infer_gender, axis=1)"
   ],
   "metadata": {
    "collapsed": false,
    "ExecuteTime": {
     "end_time": "2024-02-08T14:11:42.654599Z",
     "start_time": "2024-02-08T14:11:42.636240Z"
    }
   }
  },
  {
   "cell_type": "code",
   "execution_count": 43,
   "outputs": [
    {
     "data": {
      "text/plain": "Gender\nFemale       443\nMale         433\nNo Gender    124\nName: count, dtype: int64"
     },
     "execution_count": 43,
     "metadata": {},
     "output_type": "execute_result"
    }
   ],
   "source": [
    "data[\"Gender\"].value_counts()"
   ],
   "metadata": {
    "collapsed": false,
    "ExecuteTime": {
     "end_time": "2024-02-08T14:13:11.191036Z",
     "start_time": "2024-02-08T14:13:11.185037Z"
    }
   }
  },
  {
   "cell_type": "markdown",
   "source": [
    "### Senior Management"
   ],
   "metadata": {
    "collapsed": false
   }
  },
  {
   "cell_type": "code",
   "execution_count": 44,
   "outputs": [
    {
     "data": {
      "text/plain": "Senior Management\nTrue     468\nFalse    465\nName: count, dtype: int64"
     },
     "execution_count": 44,
     "metadata": {},
     "output_type": "execute_result"
    }
   ],
   "source": [
    "data[\"Senior Management\"].value_counts()"
   ],
   "metadata": {
    "collapsed": false,
    "ExecuteTime": {
     "end_time": "2024-02-08T14:16:12.799770Z",
     "start_time": "2024-02-08T14:16:12.788532Z"
    }
   }
  },
  {
   "cell_type": "code",
   "execution_count": 46,
   "outputs": [],
   "source": [
    "mode = data['Senior Management'].mode().values[0]\n",
    "data[\"Senior Management\"].replace(np.nan, mode, inplace=True)"
   ],
   "metadata": {
    "collapsed": false,
    "ExecuteTime": {
     "end_time": "2024-02-08T14:16:58.164142Z",
     "start_time": "2024-02-08T14:16:58.158766Z"
    }
   }
  },
  {
   "cell_type": "code",
   "execution_count": 47,
   "outputs": [
    {
     "data": {
      "text/plain": "First Name           67\nGender                0\nStart Date            0\nLast Login Time       0\nSalary                0\nBonus %               0\nSenior Management     0\nTeam                 43\ndtype: int64"
     },
     "execution_count": 47,
     "metadata": {},
     "output_type": "execute_result"
    }
   ],
   "source": [
    "data.isnull().sum()"
   ],
   "metadata": {
    "collapsed": false,
    "ExecuteTime": {
     "end_time": "2024-02-08T14:17:13.228424Z",
     "start_time": "2024-02-08T14:17:13.214041Z"
    }
   }
  },
  {
   "cell_type": "markdown",
   "source": [
    "### First Name and Team\n",
    "\n",
    "For both columns, the first name and team, we cannot fill the missing values with arbitrary data, so, let’s drop all the rows containing these missing values."
   ],
   "metadata": {
    "collapsed": false
   }
  },
  {
   "cell_type": "code",
   "execution_count": 49,
   "outputs": [],
   "source": [
    "# Ignore all rows with nan values in Team and First Name\n",
    "data = data[(data[\"Team\"].notna()) & (data[\"First Name\"].notna())]"
   ],
   "metadata": {
    "collapsed": false,
    "ExecuteTime": {
     "end_time": "2024-02-08T14:21:52.471190Z",
     "start_time": "2024-02-08T14:21:52.465883Z"
    }
   }
  },
  {
   "cell_type": "code",
   "execution_count": 0,
   "outputs": [],
   "source": [
    "# Drop all rows which have an nan value in any column\n",
    "#data.dropna(axis = 0, how='any', inplace=True)"
   ],
   "metadata": {
    "collapsed": false
   }
  },
  {
   "cell_type": "code",
   "execution_count": 50,
   "outputs": [
    {
     "data": {
      "text/plain": "First Name           0\nGender               0\nStart Date           0\nLast Login Time      0\nSalary               0\nBonus %              0\nSenior Management    0\nTeam                 0\ndtype: int64"
     },
     "execution_count": 50,
     "metadata": {},
     "output_type": "execute_result"
    }
   ],
   "source": [
    "data.isnull().sum()"
   ],
   "metadata": {
    "collapsed": false,
    "ExecuteTime": {
     "end_time": "2024-02-08T14:22:05.197215Z",
     "start_time": "2024-02-08T14:22:05.179227Z"
    }
   }
  },
  {
   "cell_type": "code",
   "execution_count": 51,
   "outputs": [
    {
     "name": "stdout",
     "output_type": "stream",
     "text": [
      "<class 'pandas.core.frame.DataFrame'>\n",
      "Index: 899 entries, 0 to 999\n",
      "Data columns (total 8 columns):\n",
      " #   Column             Non-Null Count  Dtype  \n",
      "---  ------             --------------  -----  \n",
      " 0   First Name         899 non-null    object \n",
      " 1   Gender             899 non-null    object \n",
      " 2   Start Date         899 non-null    object \n",
      " 3   Last Login Time    899 non-null    object \n",
      " 4   Salary             899 non-null    int64  \n",
      " 5   Bonus %            899 non-null    float64\n",
      " 6   Senior Management  899 non-null    bool   \n",
      " 7   Team               899 non-null    object \n",
      "dtypes: bool(1), float64(1), int64(1), object(5)\n",
      "memory usage: 57.1+ KB\n"
     ]
    }
   ],
   "source": [
    "data.info()"
   ],
   "metadata": {
    "collapsed": false,
    "ExecuteTime": {
     "end_time": "2024-02-08T14:22:36.280950Z",
     "start_time": "2024-02-08T14:22:36.266640Z"
    }
   }
  },
  {
   "cell_type": "markdown",
   "source": [
    "### Data Visualization"
   ],
   "metadata": {
    "collapsed": false
   }
  },
  {
   "cell_type": "markdown",
   "source": [
    "First inspect the value distribution of single columns / features"
   ],
   "metadata": {
    "collapsed": false
   }
  },
  {
   "cell_type": "code",
   "execution_count": 54,
   "outputs": [
    {
     "data": {
      "text/plain": "<Axes: xlabel='Salary', ylabel='Count'>"
     },
     "execution_count": 54,
     "metadata": {},
     "output_type": "execute_result"
    },
    {
     "data": {
      "text/plain": "<Figure size 640x480 with 1 Axes>",
      "image/png": "[encoded data removed]"
     },
     "metadata": {},
     "output_type": "display_data"
    }
   ],
   "source": [
    "sns.histplot(data, x=\"Salary\")"
   ],
   "metadata": {
    "collapsed": false,
    "ExecuteTime": {
     "end_time": "2024-02-08T14:24:46.409273Z",
     "start_time": "2024-02-08T14:24:46.228009Z"
    }
   }
  },
  {
   "cell_type": "code",
   "execution_count": 61,
   "outputs": [
    {
     "data": {
      "text/plain": "<Figure size 640x480 with 1 Axes>",
      "image/png": "[encoded data removed]"
     },
     "metadata": {},
     "output_type": "display_data"
    }
   ],
   "source": [
    "_ = sns.boxplot(data, x=\"Bonus %\")"
   ],
   "metadata": {
    "collapsed": false,
    "ExecuteTime": {
     "end_time": "2024-02-08T14:27:46.751118Z",
     "start_time": "2024-02-08T14:27:46.607956Z"
    }
   }
  },
  {
   "cell_type": "code",
   "execution_count": 71,
   "outputs": [
    {
     "name": "stderr",
     "output_type": "stream",
     "text": [
      "/var/folders/3z/yvm21nkx65n2wpp5dv0cq7zc0000gn/T/ipykernel_74934/267793397.py:2: UserWarning: FixedFormatter should only be used together with FixedLocator\n",
      "  _ = ax.set_xticklabels(ax.get_xticklabels(), rotation=90)\n"
     ]
    },
    {
     "data": {
      "text/plain": "<Figure size 640x480 with 1 Axes>",
      "image/png": "[encoded data removed]"
     },
     "metadata": {},
     "output_type": "display_data"
    }
   ],
   "source": [
    "ax = sns.histplot(data, x=\"Team\")\n",
    "_ = ax.set_xticklabels(ax.get_xticklabels(), rotation=90)"
   ],
   "metadata": {
    "collapsed": false,
    "ExecuteTime": {
     "end_time": "2024-02-08T14:31:14.122661Z",
     "start_time": "2024-02-08T14:31:13.965698Z"
    }
   }
  },
  {
   "cell_type": "code",
   "execution_count": 72,
   "outputs": [
    {
     "data": {
      "text/plain": "<Figure size 640x480 with 1 Axes>",
      "image/png": "[encoded data removed]"
     },
     "metadata": {},
     "output_type": "display_data"
    }
   ],
   "source": [
    "_ = sns.boxplot(data, x=\"Salary\", y='Team')"
   ],
   "metadata": {
    "collapsed": false,
    "ExecuteTime": {
     "end_time": "2024-02-08T14:31:47.132260Z",
     "start_time": "2024-02-08T14:31:46.939566Z"
    }
   }
  },
  {
   "cell_type": "code",
   "execution_count": 73,
   "outputs": [
    {
     "data": {
      "text/plain": "<Figure size 640x480 with 1 Axes>",
      "image/png": "[encoded data removed]"
     },
     "metadata": {},
     "output_type": "display_data"
    }
   ],
   "source": [
    "_ = sns.boxplot(data, x=\"Salary\", y='Gender')"
   ],
   "metadata": {
    "collapsed": false,
    "ExecuteTime": {
     "end_time": "2024-02-08T14:31:50.088837Z",
     "start_time": "2024-02-08T14:31:49.955431Z"
    }
   }
  },
  {
   "cell_type": "code",
   "execution_count": null,
   "outputs": [],
   "source": [],
   "metadata": {
    "collapsed": false
   }
  }
 ],
 "metadata": {
  "kernelspec": {
   "display_name": "Python 3",
   "language": "python",
   "name": "python3"
  },
  "language_info": {
   "codemirror_mode": {
    "name": "ipython",
    "version": 2
   },
   "file_extension": ".py",
   "mimetype": "text/x-python",
   "name": "python",
   "nbconvert_exporter": "python",
   "pygments_lexer": "ipython2",
   "version": "2.7.6"
  }
 },
 "nbformat": 4,
 "nbformat_minor": 0
}
