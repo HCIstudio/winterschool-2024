{
 "cells": [
  {
   "cell_type": "markdown",
   "source": [
    "# Winter School 2024 - Pandas Tutorial\n",
    "\n",
    "This notebook introduces basic features of Pandas data set analysis.\n",
    "\n",
    "Authors: Christopher Katins, Mario Sänger, Christopher Lazik, Thomas Kosch\n",
    "Credits to Patrick Schäfer (HU Berlin)"
   ],
   "metadata": {
    "collapsed": false
   }
  },
  {
   "cell_type": "markdown",
   "source": [
    "## Pandas\n",
    "\n",
    "Documentation: [https://pandas.pydata.org/](https://pandas.pydata.org/)"
   ],
   "metadata": {
    "collapsed": false
   }
  },
  {
   "cell_type": "markdown",
   "source": [
    "First setup environment and install packages"
   ],
   "metadata": {
    "collapsed": false
   }
  },
  {
   "cell_type": "code",
   "execution_count": 175,
   "outputs": [],
   "source": [
    "#!python -m venv env_ws_tutorial"
   ],
   "metadata": {
    "collapsed": false,
    "ExecuteTime": {
     "end_time": "2024-02-06T14:31:51.049792539Z",
     "start_time": "2024-02-06T14:31:47.288094240Z"
    }
   }
  },
  {
   "cell_type": "code",
   "execution_count": 176,
   "outputs": [],
   "source": [
    "#!source env_ws_tutorial/bin/activate"
   ],
   "metadata": {
    "collapsed": false,
    "ExecuteTime": {
     "end_time": "2024-02-06T14:31:53.657085846Z",
     "start_time": "2024-02-06T14:31:52.837717316Z"
    }
   }
  },
  {
   "cell_type": "code",
   "execution_count": 177,
   "outputs": [
    {
     "name": "stdout",
     "output_type": "stream",
     "text": [
      "Requirement already satisfied: pandas in /home/mario/anaconda3/envs/winterschool/lib/python3.10/site-packages (2.1.4)\r\n",
      "Requirement already satisfied: numpy<2,>=1.22.4 in /home/mario/anaconda3/envs/winterschool/lib/python3.10/site-packages (from pandas) (1.26.3)\r\n",
      "Requirement already satisfied: python-dateutil>=2.8.2 in /home/mario/anaconda3/envs/winterschool/lib/python3.10/site-packages (from pandas) (2.8.2)\r\n",
      "Requirement already satisfied: pytz>=2020.1 in /home/mario/anaconda3/envs/winterschool/lib/python3.10/site-packages (from pandas) (2023.3.post1)\r\n",
      "Requirement already satisfied: tzdata>=2022.1 in /home/mario/anaconda3/envs/winterschool/lib/python3.10/site-packages (from pandas) (2023.3)\r\n",
      "Requirement already satisfied: six>=1.5 in /home/mario/anaconda3/envs/winterschool/lib/python3.10/site-packages (from python-dateutil>=2.8.2->pandas) (1.16.0)\r\n"
     ]
    }
   ],
   "source": [
    "#!pip install -r requirements.txt"
   ],
   "metadata": {
    "collapsed": false,
    "ExecuteTime": {
     "end_time": "2024-02-06T14:31:57.010594626Z",
     "start_time": "2024-02-06T14:31:54.457864738Z"
    }
   }
  },
  {
   "cell_type": "code",
   "execution_count": null,
   "outputs": [],
   "source": [
    "!pip install pandas seaborn matplotlib==3.7.3"
   ],
   "metadata": {
    "collapsed": false
   }
  },
  {
   "cell_type": "markdown",
   "source": [
    "\n",
    "### Series\n",
    "\n",
    "A Pandas Series is a one-dimensional array-like object that can hold data of any type (integer, string, float, python objects, etc.), similar to a column in a spreadsheet or a SQL table. Each element in a Series is associated with an index, which is an array of labels that allows for fast lookup and advanced data manipulation capabilities."
   ],
   "metadata": {
    "collapsed": false
   }
  },
  {
   "cell_type": "code",
   "execution_count": 2,
   "outputs": [],
   "source": [
    "import pandas as pd\n",
    "from pandas import Series"
   ],
   "metadata": {
    "collapsed": false,
    "ExecuteTime": {
     "end_time": "2024-02-09T22:02:40.526947Z",
     "start_time": "2024-02-09T22:02:40.515171Z"
    }
   }
  },
  {
   "cell_type": "code",
   "execution_count": null,
   "id": "raising-contents",
   "metadata": {},
   "outputs": [],
   "source": [
    "l =[7, 'Heisenberg', 3.14, -178971, 'Happy!']\n",
    "s = pd.Series(l)\n",
    "s"
   ]
  },
  {
   "cell_type": "code",
   "execution_count": null,
   "id": "expired-rouge",
   "metadata": {},
   "outputs": [],
   "source": [
    "pd.Series(\n",
    "    [7, 'Heisenberg', 3.14,-178971, 'Happy!'],\n",
    "    index=['A', 'Z', 'C', 'Y', 'E']\n",
    ")"
   ]
  },
  {
   "cell_type": "code",
   "execution_count": null,
   "id": "matched-norway",
   "metadata": {},
   "outputs": [],
   "source": [
    "d = {'Chicago': 1000, \n",
    "     'New York': 1300,\n",
    "     'Portland': 900,\n",
    "     'San Francisco': 1100,\n",
    "     'Austin': 450,\n",
    "     'Boston': None} \n",
    "cities = pd.Series(d) \n",
    "cities"
   ]
  },
  {
   "cell_type": "code",
   "execution_count": null,
   "id": "efficient-setup",
   "metadata": {},
   "outputs": [],
   "source": [
    "cities[cities < 1000]"
   ]
  },
  {
   "cell_type": "markdown",
   "source": [
    "### DataFrames\n",
    "\n",
    "A DataFrame is the primary data structure of Pandas to represent two-dimensional, tabular data with labeled axes (rows and columns) in Python. DataFrames allow for storing and manipulating real-world data sets and offer a wide range of functionalities for data manipulation tasks such as filtering, aggregation, and visualization."
   ],
   "metadata": {
    "collapsed": false
   }
  },
  {
   "cell_type": "markdown",
   "source": [
    "**Creating DataFrames**"
   ],
   "metadata": {
    "collapsed": false
   }
  },
  {
   "cell_type": "code",
   "execution_count": null,
   "id": "lesbian-dylan",
   "metadata": {},
   "outputs": [],
   "source": [
    "data = {'year': [2010, 2011, 2012, 2011, \n",
    "                2012, 2010, 2011, 2012], \n",
    "        'team': ['Bears', 'Bears', 'Bears', \n",
    "                    'Packers', 'Packers',\n",
    "                    'Lions', 'Lions' , 'Lions'], \n",
    "        'wins': [11, 8, 10, 15, 11, 6, 10, 4], \n",
    "        'losses': [5, 8, 6, 1, 5, 10, 6, 12]} \n",
    "football = pd.DataFrame(data)\n",
    "football"
   ]
  },
  {
   "cell_type": "code",
   "execution_count": null,
   "id": "everyday-dominant",
   "metadata": {},
   "outputs": [],
   "source": [
    "football.set_index('year').head()"
   ]
  },
  {
   "cell_type": "code",
   "execution_count": null,
   "outputs": [],
   "source": [
    "football.rename(columns={'year': 'season'})"
   ],
   "metadata": {
    "collapsed": false
   }
  },
  {
   "cell_type": "markdown",
   "source": [
    "**Loading data from a CSV file**"
   ],
   "metadata": {
    "collapsed": false
   }
  },
  {
   "cell_type": "code",
   "execution_count": 3,
   "outputs": [
    {
     "data": {
      "text/plain": "      Loan_ID  Gender Married Dependents     Education Self_Employed  \\\n0    LP001002    Male      No          0      Graduate            No   \n1    LP001003    Male     Yes          1      Graduate            No   \n2    LP001005    Male     Yes          0      Graduate           Yes   \n3    LP001006    Male     Yes          0  Not Graduate            No   \n4    LP001008    Male      No          0      Graduate            No   \n..        ...     ...     ...        ...           ...           ...   \n609  LP002978  Female      No          0      Graduate            No   \n610  LP002979    Male     Yes         3+      Graduate            No   \n611  LP002983    Male     Yes          1      Graduate            No   \n612  LP002984    Male     Yes          2      Graduate            No   \n613  LP002990  Female      No          0      Graduate           Yes   \n\n     ApplicantIncome  CoapplicantIncome  LoanAmount  Loan_Amount_Term  \\\n0               5849                0.0         NaN             360.0   \n1               4583             1508.0       128.0             360.0   \n2               3000                0.0        66.0             360.0   \n3               2583             2358.0       120.0             360.0   \n4               6000                0.0       141.0             360.0   \n..               ...                ...         ...               ...   \n609             2900                0.0        71.0             360.0   \n610             4106                0.0        40.0             180.0   \n611             8072              240.0       253.0             360.0   \n612             7583                0.0       187.0             360.0   \n613             4583                0.0       133.0             360.0   \n\n     Credit_History Property_Area Loan_Status  \n0               1.0         Urban           Y  \n1               1.0         Rural           N  \n2               1.0         Urban           Y  \n3               1.0         Urban           Y  \n4               1.0         Urban           Y  \n..              ...           ...         ...  \n609             1.0         Rural           Y  \n610             1.0         Rural           Y  \n611             1.0         Urban           Y  \n612             1.0         Urban           Y  \n613             0.0     Semiurban           N  \n\n[614 rows x 13 columns]",
      "text/html": "<div>\n<style scoped>\n    .dataframe tbody tr th:only-of-type {\n        vertical-align: middle;\n    }\n\n    .dataframe tbody tr th {\n        vertical-align: top;\n    }\n\n    .dataframe thead th {\n        text-align: right;\n    }\n</style>\n<table border=\"1\" class=\"dataframe\">\n  <thead>\n    <tr style=\"text-align: right;\">\n      <th></th>\n      <th>Loan_ID</th>\n      <th>Gender</th>\n      <th>Married</th>\n      <th>Dependents</th>\n      <th>Education</th>\n      <th>Self_Employed</th>\n      <th>ApplicantIncome</th>\n      <th>CoapplicantIncome</th>\n      <th>LoanAmount</th>\n      <th>Loan_Amount_Term</th>\n      <th>Credit_History</th>\n      <th>Property_Area</th>\n      <th>Loan_Status</th>\n    </tr>\n  </thead>\n  <tbody>\n    <tr>\n      <th>0</th>\n      <td>LP001002</td>\n      <td>Male</td>\n      <td>No</td>\n      <td>0</td>\n      <td>Graduate</td>\n      <td>No</td>\n      <td>5849</td>\n      <td>0.0</td>\n      <td>NaN</td>\n      <td>360.0</td>\n      <td>1.0</td>\n      <td>Urban</td>\n      <td>Y</td>\n    </tr>\n    <tr>\n      <th>1</th>\n      <td>LP001003</td>\n      <td>Male</td>\n      <td>Yes</td>\n      <td>1</td>\n      <td>Graduate</td>\n      <td>No</td>\n      <td>4583</td>\n      <td>1508.0</td>\n      <td>128.0</td>\n      <td>360.0</td>\n      <td>1.0</td>\n      <td>Rural</td>\n      <td>N</td>\n    </tr>\n    <tr>\n      <th>2</th>\n      <td>LP001005</td>\n      <td>Male</td>\n      <td>Yes</td>\n      <td>0</td>\n      <td>Graduate</td>\n      <td>Yes</td>\n      <td>3000</td>\n      <td>0.0</td>\n      <td>66.0</td>\n      <td>360.0</td>\n      <td>1.0</td>\n      <td>Urban</td>\n      <td>Y</td>\n    </tr>\n    <tr>\n      <th>3</th>\n      <td>LP001006</td>\n      <td>Male</td>\n      <td>Yes</td>\n      <td>0</td>\n      <td>Not Graduate</td>\n      <td>No</td>\n      <td>2583</td>\n      <td>2358.0</td>\n      <td>120.0</td>\n      <td>360.0</td>\n      <td>1.0</td>\n      <td>Urban</td>\n      <td>Y</td>\n    </tr>\n    <tr>\n      <th>4</th>\n      <td>LP001008</td>\n      <td>Male</td>\n      <td>No</td>\n      <td>0</td>\n      <td>Graduate</td>\n      <td>No</td>\n      <td>6000</td>\n      <td>0.0</td>\n      <td>141.0</td>\n      <td>360.0</td>\n      <td>1.0</td>\n      <td>Urban</td>\n      <td>Y</td>\n    </tr>\n    <tr>\n      <th>...</th>\n      <td>...</td>\n      <td>...</td>\n      <td>...</td>\n      <td>...</td>\n      <td>...</td>\n      <td>...</td>\n      <td>...</td>\n      <td>...</td>\n      <td>...</td>\n      <td>...</td>\n      <td>...</td>\n      <td>...</td>\n      <td>...</td>\n    </tr>\n    <tr>\n      <th>609</th>\n      <td>LP002978</td>\n      <td>Female</td>\n      <td>No</td>\n      <td>0</td>\n      <td>Graduate</td>\n      <td>No</td>\n      <td>2900</td>\n      <td>0.0</td>\n      <td>71.0</td>\n      <td>360.0</td>\n      <td>1.0</td>\n      <td>Rural</td>\n      <td>Y</td>\n    </tr>\n    <tr>\n      <th>610</th>\n      <td>LP002979</td>\n      <td>Male</td>\n      <td>Yes</td>\n      <td>3+</td>\n      <td>Graduate</td>\n      <td>No</td>\n      <td>4106</td>\n      <td>0.0</td>\n      <td>40.0</td>\n      <td>180.0</td>\n      <td>1.0</td>\n      <td>Rural</td>\n      <td>Y</td>\n    </tr>\n    <tr>\n      <th>611</th>\n      <td>LP002983</td>\n      <td>Male</td>\n      <td>Yes</td>\n      <td>1</td>\n      <td>Graduate</td>\n      <td>No</td>\n      <td>8072</td>\n      <td>240.0</td>\n      <td>253.0</td>\n      <td>360.0</td>\n      <td>1.0</td>\n      <td>Urban</td>\n      <td>Y</td>\n    </tr>\n    <tr>\n      <th>612</th>\n      <td>LP002984</td>\n      <td>Male</td>\n      <td>Yes</td>\n      <td>2</td>\n      <td>Graduate</td>\n      <td>No</td>\n      <td>7583</td>\n      <td>0.0</td>\n      <td>187.0</td>\n      <td>360.0</td>\n      <td>1.0</td>\n      <td>Urban</td>\n      <td>Y</td>\n    </tr>\n    <tr>\n      <th>613</th>\n      <td>LP002990</td>\n      <td>Female</td>\n      <td>No</td>\n      <td>0</td>\n      <td>Graduate</td>\n      <td>Yes</td>\n      <td>4583</td>\n      <td>0.0</td>\n      <td>133.0</td>\n      <td>360.0</td>\n      <td>0.0</td>\n      <td>Semiurban</td>\n      <td>N</td>\n    </tr>\n  </tbody>\n</table>\n<p>614 rows × 13 columns</p>\n</div>"
     },
     "execution_count": 3,
     "metadata": {},
     "output_type": "execute_result"
    }
   ],
   "source": [
    "income_data = pd.read_csv(\"income_data.csv\", sep=\",\")\n",
    "income_data"
   ],
   "metadata": {
    "collapsed": false,
    "ExecuteTime": {
     "end_time": "2024-02-09T22:02:44.414396Z",
     "start_time": "2024-02-09T22:02:44.388930Z"
    }
   }
  },
  {
   "cell_type": "code",
   "execution_count": 4,
   "outputs": [
    {
     "data": {
      "text/plain": "          Gender Married Dependents     Education Self_Employed  \\\nLoan_ID                                                           \nLP001002    Male      No          0      Graduate            No   \nLP001003    Male     Yes          1      Graduate            No   \nLP001005    Male     Yes          0      Graduate           Yes   \nLP001006    Male     Yes          0  Not Graduate            No   \nLP001008    Male      No          0      Graduate            No   \n...          ...     ...        ...           ...           ...   \nLP002978  Female      No          0      Graduate            No   \nLP002979    Male     Yes         3+      Graduate            No   \nLP002983    Male     Yes          1      Graduate            No   \nLP002984    Male     Yes          2      Graduate            No   \nLP002990  Female      No          0      Graduate           Yes   \n\n          ApplicantIncome  CoapplicantIncome  LoanAmount  Loan_Amount_Term  \\\nLoan_ID                                                                      \nLP001002             5849                0.0         NaN             360.0   \nLP001003             4583             1508.0       128.0             360.0   \nLP001005             3000                0.0        66.0             360.0   \nLP001006             2583             2358.0       120.0             360.0   \nLP001008             6000                0.0       141.0             360.0   \n...                   ...                ...         ...               ...   \nLP002978             2900                0.0        71.0             360.0   \nLP002979             4106                0.0        40.0             180.0   \nLP002983             8072              240.0       253.0             360.0   \nLP002984             7583                0.0       187.0             360.0   \nLP002990             4583                0.0       133.0             360.0   \n\n          Credit_History Property_Area Loan_Status  \nLoan_ID                                             \nLP001002             1.0         Urban           Y  \nLP001003             1.0         Rural           N  \nLP001005             1.0         Urban           Y  \nLP001006             1.0         Urban           Y  \nLP001008             1.0         Urban           Y  \n...                  ...           ...         ...  \nLP002978             1.0         Rural           Y  \nLP002979             1.0         Rural           Y  \nLP002983             1.0         Urban           Y  \nLP002984             1.0         Urban           Y  \nLP002990             0.0     Semiurban           N  \n\n[614 rows x 12 columns]",
      "text/html": "<div>\n<style scoped>\n    .dataframe tbody tr th:only-of-type {\n        vertical-align: middle;\n    }\n\n    .dataframe tbody tr th {\n        vertical-align: top;\n    }\n\n    .dataframe thead th {\n        text-align: right;\n    }\n</style>\n<table border=\"1\" class=\"dataframe\">\n  <thead>\n    <tr style=\"text-align: right;\">\n      <th></th>\n      <th>Gender</th>\n      <th>Married</th>\n      <th>Dependents</th>\n      <th>Education</th>\n      <th>Self_Employed</th>\n      <th>ApplicantIncome</th>\n      <th>CoapplicantIncome</th>\n      <th>LoanAmount</th>\n      <th>Loan_Amount_Term</th>\n      <th>Credit_History</th>\n      <th>Property_Area</th>\n      <th>Loan_Status</th>\n    </tr>\n    <tr>\n      <th>Loan_ID</th>\n      <th></th>\n      <th></th>\n      <th></th>\n      <th></th>\n      <th></th>\n      <th></th>\n      <th></th>\n      <th></th>\n      <th></th>\n      <th></th>\n      <th></th>\n      <th></th>\n    </tr>\n  </thead>\n  <tbody>\n    <tr>\n      <th>LP001002</th>\n      <td>Male</td>\n      <td>No</td>\n      <td>0</td>\n      <td>Graduate</td>\n      <td>No</td>\n      <td>5849</td>\n      <td>0.0</td>\n      <td>NaN</td>\n      <td>360.0</td>\n      <td>1.0</td>\n      <td>Urban</td>\n      <td>Y</td>\n    </tr>\n    <tr>\n      <th>LP001003</th>\n      <td>Male</td>\n      <td>Yes</td>\n      <td>1</td>\n      <td>Graduate</td>\n      <td>No</td>\n      <td>4583</td>\n      <td>1508.0</td>\n      <td>128.0</td>\n      <td>360.0</td>\n      <td>1.0</td>\n      <td>Rural</td>\n      <td>N</td>\n    </tr>\n    <tr>\n      <th>LP001005</th>\n      <td>Male</td>\n      <td>Yes</td>\n      <td>0</td>\n      <td>Graduate</td>\n      <td>Yes</td>\n      <td>3000</td>\n      <td>0.0</td>\n      <td>66.0</td>\n      <td>360.0</td>\n      <td>1.0</td>\n      <td>Urban</td>\n      <td>Y</td>\n    </tr>\n    <tr>\n      <th>LP001006</th>\n      <td>Male</td>\n      <td>Yes</td>\n      <td>0</td>\n      <td>Not Graduate</td>\n      <td>No</td>\n      <td>2583</td>\n      <td>2358.0</td>\n      <td>120.0</td>\n      <td>360.0</td>\n      <td>1.0</td>\n      <td>Urban</td>\n      <td>Y</td>\n    </tr>\n    <tr>\n      <th>LP001008</th>\n      <td>Male</td>\n      <td>No</td>\n      <td>0</td>\n      <td>Graduate</td>\n      <td>No</td>\n      <td>6000</td>\n      <td>0.0</td>\n      <td>141.0</td>\n      <td>360.0</td>\n      <td>1.0</td>\n      <td>Urban</td>\n      <td>Y</td>\n    </tr>\n    <tr>\n      <th>...</th>\n      <td>...</td>\n      <td>...</td>\n      <td>...</td>\n      <td>...</td>\n      <td>...</td>\n      <td>...</td>\n      <td>...</td>\n      <td>...</td>\n      <td>...</td>\n      <td>...</td>\n      <td>...</td>\n      <td>...</td>\n    </tr>\n    <tr>\n      <th>LP002978</th>\n      <td>Female</td>\n      <td>No</td>\n      <td>0</td>\n      <td>Graduate</td>\n      <td>No</td>\n      <td>2900</td>\n      <td>0.0</td>\n      <td>71.0</td>\n      <td>360.0</td>\n      <td>1.0</td>\n      <td>Rural</td>\n      <td>Y</td>\n    </tr>\n    <tr>\n      <th>LP002979</th>\n      <td>Male</td>\n      <td>Yes</td>\n      <td>3+</td>\n      <td>Graduate</td>\n      <td>No</td>\n      <td>4106</td>\n      <td>0.0</td>\n      <td>40.0</td>\n      <td>180.0</td>\n      <td>1.0</td>\n      <td>Rural</td>\n      <td>Y</td>\n    </tr>\n    <tr>\n      <th>LP002983</th>\n      <td>Male</td>\n      <td>Yes</td>\n      <td>1</td>\n      <td>Graduate</td>\n      <td>No</td>\n      <td>8072</td>\n      <td>240.0</td>\n      <td>253.0</td>\n      <td>360.0</td>\n      <td>1.0</td>\n      <td>Urban</td>\n      <td>Y</td>\n    </tr>\n    <tr>\n      <th>LP002984</th>\n      <td>Male</td>\n      <td>Yes</td>\n      <td>2</td>\n      <td>Graduate</td>\n      <td>No</td>\n      <td>7583</td>\n      <td>0.0</td>\n      <td>187.0</td>\n      <td>360.0</td>\n      <td>1.0</td>\n      <td>Urban</td>\n      <td>Y</td>\n    </tr>\n    <tr>\n      <th>LP002990</th>\n      <td>Female</td>\n      <td>No</td>\n      <td>0</td>\n      <td>Graduate</td>\n      <td>Yes</td>\n      <td>4583</td>\n      <td>0.0</td>\n      <td>133.0</td>\n      <td>360.0</td>\n      <td>0.0</td>\n      <td>Semiurban</td>\n      <td>N</td>\n    </tr>\n  </tbody>\n</table>\n<p>614 rows × 12 columns</p>\n</div>"
     },
     "execution_count": 4,
     "metadata": {},
     "output_type": "execute_result"
    }
   ],
   "source": [
    "income_data.set_index(\"Loan_ID\", inplace=True)\n",
    "income_data"
   ],
   "metadata": {
    "collapsed": false,
    "ExecuteTime": {
     "end_time": "2024-02-09T22:02:47.903001Z",
     "start_time": "2024-02-09T22:02:47.886160Z"
    }
   }
  },
  {
   "cell_type": "markdown",
   "source": [
    "**Accessing / selecting data rows and columns**"
   ],
   "metadata": {
    "collapsed": false
   }
  },
  {
   "cell_type": "code",
   "execution_count": null,
   "outputs": [],
   "source": [
    "# accessing row(s) via index label\n",
    "income_data.loc[\"LP001005\"]"
   ],
   "metadata": {
    "collapsed": false
   }
  },
  {
   "cell_type": "code",
   "execution_count": null,
   "outputs": [],
   "source": [
    "# accessing rows via row id\n",
    "income_data.iloc[0]"
   ],
   "metadata": {
    "collapsed": false
   }
  },
  {
   "cell_type": "code",
   "execution_count": null,
   "outputs": [],
   "source": [
    "# accessing multiple rows\n",
    "income_data.iloc[0:5]"
   ],
   "metadata": {
    "collapsed": false
   }
  },
  {
   "cell_type": "code",
   "execution_count": null,
   "outputs": [],
   "source": [
    "# accessing a column\n",
    "income_data[\"Married\"]"
   ],
   "metadata": {
    "collapsed": false
   }
  },
  {
   "cell_type": "code",
   "execution_count": null,
   "outputs": [],
   "source": [
    "income_data.Gender"
   ],
   "metadata": {
    "collapsed": false
   }
  },
  {
   "cell_type": "code",
   "execution_count": null,
   "outputs": [],
   "source": [
    "income_data[[\"Married\", \"Gender\"]]"
   ],
   "metadata": {
    "collapsed": false
   }
  },
  {
   "cell_type": "code",
   "execution_count": null,
   "outputs": [],
   "source": [
    "# accessing rows via row id\n",
    "income_data.iloc[0:5][[\"Married\", \"Gender\", \"Education\"]]"
   ],
   "metadata": {
    "collapsed": false
   }
  },
  {
   "cell_type": "markdown",
   "source": [
    "**Data inspection**"
   ],
   "metadata": {
    "collapsed": false
   }
  },
  {
   "cell_type": "code",
   "execution_count": null,
   "outputs": [],
   "source": [
    "# Get basic information, e.g. number of entries, short column description, of the data frame\n",
    "income_data.info()"
   ],
   "metadata": {
    "collapsed": false
   }
  },
  {
   "cell_type": "code",
   "execution_count": null,
   "outputs": [],
   "source": [
    "# Highlight basic descriptive statistics of the integer / float columns\n",
    "income_data.describe()"
   ],
   "metadata": {
    "collapsed": false
   }
  },
  {
   "cell_type": "code",
   "execution_count": null,
   "outputs": [],
   "source": [
    "# Access the value distribution of a column\n",
    "income_data[\"Married\"].value_counts(normalize=True)"
   ],
   "metadata": {
    "collapsed": false
   }
  },
  {
   "cell_type": "code",
   "execution_count": null,
   "outputs": [],
   "source": [
    "len(income_data[\"Dependents\"].unique())"
   ],
   "metadata": {
    "collapsed": false
   }
  },
  {
   "cell_type": "code",
   "execution_count": 178,
   "outputs": [
    {
     "data": {
      "text/plain": "Gender                 2\nMarried                2\nDependents             4\nEducation              2\nSelf_Employed          2\nApplicantIncome      505\nCoapplicantIncome    287\nLoanAmount           203\nLoan_Amount_Term      10\nCredit_History         2\nProperty_Area          3\nLoan_Status            2\nlog_income           505\ngender_married         8\ndtype: int64"
     },
     "execution_count": 178,
     "metadata": {},
     "output_type": "execute_result"
    }
   ],
   "source": [
    "income_data.nunique()"
   ],
   "metadata": {
    "collapsed": false,
    "ExecuteTime": {
     "end_time": "2024-02-06T16:42:56.009204472Z",
     "start_time": "2024-02-06T16:42:55.920406317Z"
    }
   }
  },
  {
   "cell_type": "code",
   "execution_count": null,
   "outputs": [],
   "source": [
    "income_data[\"Dependents\"].mode()"
   ],
   "metadata": {
    "collapsed": false
   }
  },
  {
   "cell_type": "code",
   "execution_count": null,
   "outputs": [],
   "source": [
    "income_data[\"Dependents\"].value_counts(normalize=True)"
   ],
   "metadata": {
    "collapsed": false
   }
  },
  {
   "cell_type": "code",
   "execution_count": null,
   "outputs": [],
   "source": [
    "# Print default statistics\n",
    "print(income_data[\"ApplicantIncome\"].min())\n",
    "print(income_data[\"ApplicantIncome\"].max())\n",
    "print(income_data[\"ApplicantIncome\"].mean())\n",
    "print(income_data[\"ApplicantIncome\"].median())\n",
    "print(income_data[\"ApplicantIncome\"].quantile(0.25))"
   ],
   "metadata": {
    "collapsed": false
   }
  },
  {
   "cell_type": "code",
   "execution_count": null,
   "outputs": [],
   "source": [
    "# Display missing values per column\n",
    "income_data.isna().sum()"
   ],
   "metadata": {
    "collapsed": false
   }
  },
  {
   "cell_type": "markdown",
   "source": [
    "**Filtering data**"
   ],
   "metadata": {
    "collapsed": false
   }
  },
  {
   "cell_type": "code",
   "execution_count": null,
   "id": "italian-hypothesis",
   "metadata": {},
   "outputs": [],
   "source": [
    "income_data[\"ApplicantIncome\"]>10000"
   ]
  },
  {
   "cell_type": "code",
   "execution_count": null,
   "id": "operational-guest",
   "metadata": {},
   "outputs": [],
   "source": [
    "income_data[income_data[\"ApplicantIncome\"]>10000]"
   ]
  },
  {
   "cell_type": "code",
   "execution_count": null,
   "outputs": [],
   "source": [
    "income_data[(income_data[\"ApplicantIncome\"]>10000) & (income_data[\"Self_Employed\"] == \"Yes\")]"
   ],
   "metadata": {
    "collapsed": false
   }
  },
  {
   "cell_type": "code",
   "execution_count": null,
   "id": "organized-musician",
   "metadata": {},
   "outputs": [],
   "source": [
    "# Accessing rows having no value in Credit_History\n",
    "income_data[income_data[\"Credit_History\"].isna()]"
   ]
  },
  {
   "cell_type": "code",
   "execution_count": null,
   "id": "collaborative-church",
   "metadata": {},
   "outputs": [],
   "source": [
    "# Finding duplicated rows\n",
    "income_data[income_data.duplicated()]"
   ]
  },
  {
   "cell_type": "code",
   "execution_count": null,
   "outputs": [],
   "source": [
    "# Finding duplicated rows restricted to certain columns\n",
    "income_data[income_data.duplicated(subset=[\"Gender\", \"Married\", \"Education\", \"Self_Employed\"], keep=\"first\")]\n"
   ],
   "metadata": {
    "collapsed": false
   }
  },
  {
   "cell_type": "markdown",
   "source": [
    "**Grouping data**"
   ],
   "metadata": {
    "collapsed": false
   }
  },
  {
   "cell_type": "code",
   "execution_count": null,
   "outputs": [],
   "source": [
    "income_data.groupby(\"Gender\")[\"ApplicantIncome\"].mean()"
   ],
   "metadata": {
    "collapsed": false
   }
  },
  {
   "cell_type": "code",
   "execution_count": null,
   "outputs": [],
   "source": [
    "income_data.groupby([\"Gender\", \"Education\"]).count()"
   ],
   "metadata": {
    "collapsed": false
   }
  },
  {
   "cell_type": "markdown",
   "source": [
    "**Sorting data**"
   ],
   "metadata": {
    "collapsed": false
   }
  },
  {
   "cell_type": "code",
   "execution_count": null,
   "outputs": [],
   "source": [
    "income_data.sort_values(\"ApplicantIncome\")"
   ],
   "metadata": {
    "collapsed": false
   }
  },
  {
   "cell_type": "code",
   "execution_count": null,
   "outputs": [],
   "source": [
    "income_data.sort_values([\"Loan_Amount_Term\", \"ApplicantIncome\"], ascending=[False, True])"
   ],
   "metadata": {
    "collapsed": false
   }
  },
  {
   "cell_type": "markdown",
   "source": [
    "**Transforming data**"
   ],
   "metadata": {
    "collapsed": false
   }
  },
  {
   "cell_type": "code",
   "execution_count": null,
   "outputs": [],
   "source": [
    "import math\n",
    "income_data[\"log_income\"] = income_data[\"ApplicantIncome\"].apply(lambda income: math.log(income))\n",
    "income_data[[\"ApplicantIncome\", \"log_income\"]]"
   ],
   "metadata": {
    "collapsed": false
   }
  },
  {
   "cell_type": "code",
   "execution_count": null,
   "outputs": [],
   "source": [
    "def concat(row: Series) -> str:\n",
    "    return str(row[\"Gender\"]) + \"-\" + str(row[\"Married\"])\n",
    "\n",
    "income_data[\"gender_married\"] = income_data.apply(concat, axis=1)\n",
    "income_data[\"gender_married\"]"
   ],
   "metadata": {
    "collapsed": false
   }
  },
  {
   "cell_type": "markdown",
   "source": [
    "**Cross tabulation**\n",
    "\n",
    "With `pd.crosstab()` we can create cross-tabulations contain the absolute and relative frequencies of combinations of two columns."
   ],
   "metadata": {
    "collapsed": false
   }
  },
  {
   "cell_type": "code",
   "execution_count": 6,
   "outputs": [
    {
     "data": {
      "text/plain": "Education  Graduate  Not Graduate\nGender                           \nFemale           92            20\nMale            376           113",
      "text/html": "<div>\n<style scoped>\n    .dataframe tbody tr th:only-of-type {\n        vertical-align: middle;\n    }\n\n    .dataframe tbody tr th {\n        vertical-align: top;\n    }\n\n    .dataframe thead th {\n        text-align: right;\n    }\n</style>\n<table border=\"1\" class=\"dataframe\">\n  <thead>\n    <tr style=\"text-align: right;\">\n      <th>Education</th>\n      <th>Graduate</th>\n      <th>Not Graduate</th>\n    </tr>\n    <tr>\n      <th>Gender</th>\n      <th></th>\n      <th></th>\n    </tr>\n  </thead>\n  <tbody>\n    <tr>\n      <th>Female</th>\n      <td>92</td>\n      <td>20</td>\n    </tr>\n    <tr>\n      <th>Male</th>\n      <td>376</td>\n      <td>113</td>\n    </tr>\n  </tbody>\n</table>\n</div>"
     },
     "execution_count": 6,
     "metadata": {},
     "output_type": "execute_result"
    }
   ],
   "source": [
    "pd.crosstab(income_data[\"Gender\"], income_data[\"Education\"])"
   ],
   "metadata": {
    "collapsed": false,
    "ExecuteTime": {
     "end_time": "2024-02-09T22:03:05.737693Z",
     "start_time": "2024-02-09T22:03:05.720103Z"
    }
   }
  },
  {
   "cell_type": "code",
   "execution_count": 7,
   "outputs": [
    {
     "data": {
      "text/plain": "<pandas.io.formats.style.Styler at 0x7f97e9967a00>",
      "text/html": "<style type=\"text/css\">\n#T_8b028_row0_col0, #T_8b028_row0_col1 {\n  background-color: #f7fbff;\n  color: #000000;\n}\n#T_8b028_row1_col0, #T_8b028_row1_col1 {\n  background-color: #08306b;\n  color: #f1f1f1;\n}\n</style>\n<table id=\"T_8b028\">\n  <thead>\n    <tr>\n      <th class=\"index_name level0\" >Education</th>\n      <th id=\"T_8b028_level0_col0\" class=\"col_heading level0 col0\" >Graduate</th>\n      <th id=\"T_8b028_level0_col1\" class=\"col_heading level0 col1\" >Not Graduate</th>\n    </tr>\n    <tr>\n      <th class=\"index_name level0\" >Gender</th>\n      <th class=\"blank col0\" >&nbsp;</th>\n      <th class=\"blank col1\" >&nbsp;</th>\n    </tr>\n  </thead>\n  <tbody>\n    <tr>\n      <th id=\"T_8b028_level0_row0\" class=\"row_heading level0 row0\" >Female</th>\n      <td id=\"T_8b028_row0_col0\" class=\"data row0 col0\" >92</td>\n      <td id=\"T_8b028_row0_col1\" class=\"data row0 col1\" >20</td>\n    </tr>\n    <tr>\n      <th id=\"T_8b028_level0_row1\" class=\"row_heading level0 row1\" >Male</th>\n      <td id=\"T_8b028_row1_col0\" class=\"data row1 col0\" >376</td>\n      <td id=\"T_8b028_row1_col1\" class=\"data row1 col1\" >113</td>\n    </tr>\n  </tbody>\n</table>\n"
     },
     "execution_count": 7,
     "metadata": {},
     "output_type": "execute_result"
    }
   ],
   "source": [
    "# Style the background\n",
    "pd.crosstab(income_data[\"Gender\"], income_data[\"Education\"])\\\n",
    "    .style.background_gradient(cmap='Blues')"
   ],
   "metadata": {
    "collapsed": false,
    "ExecuteTime": {
     "end_time": "2024-02-09T22:04:05.985677Z",
     "start_time": "2024-02-09T22:04:05.929805Z"
    }
   }
  },
  {
   "cell_type": "code",
   "execution_count": 10,
   "outputs": [
    {
     "data": {
      "text/plain": "<pandas.io.formats.style.Styler at 0x7f98097602e0>",
      "text/html": "<style type=\"text/css\">\n#T_fb7dc_row0_col0, #T_fb7dc_row0_col1 {\n  background-color: #f7fbff;\n  color: #000000;\n}\n#T_fb7dc_row1_col0, #T_fb7dc_row1_col1 {\n  background-color: #08306b;\n  color: #f1f1f1;\n}\n</style>\n<table id=\"T_fb7dc\">\n  <thead>\n    <tr>\n      <th class=\"index_name level0\" >Education</th>\n      <th id=\"T_fb7dc_level0_col0\" class=\"col_heading level0 col0\" >Graduate</th>\n      <th id=\"T_fb7dc_level0_col1\" class=\"col_heading level0 col1\" >Not Graduate</th>\n    </tr>\n    <tr>\n      <th class=\"index_name level0\" >Gender</th>\n      <th class=\"blank col0\" >&nbsp;</th>\n      <th class=\"blank col1\" >&nbsp;</th>\n    </tr>\n  </thead>\n  <tbody>\n    <tr>\n      <th id=\"T_fb7dc_level0_row0\" class=\"row_heading level0 row0\" >Female</th>\n      <td id=\"T_fb7dc_row0_col0\" class=\"data row0 col0\" >0.153078</td>\n      <td id=\"T_fb7dc_row0_col1\" class=\"data row0 col1\" >0.033278</td>\n    </tr>\n    <tr>\n      <th id=\"T_fb7dc_level0_row1\" class=\"row_heading level0 row1\" >Male</th>\n      <td id=\"T_fb7dc_row1_col0\" class=\"data row1 col0\" >0.625624</td>\n      <td id=\"T_fb7dc_row1_col1\" class=\"data row1 col1\" >0.188020</td>\n    </tr>\n  </tbody>\n</table>\n"
     },
     "execution_count": 10,
     "metadata": {},
     "output_type": "execute_result"
    }
   ],
   "source": [
    "# Print normalized values\n",
    "pd.crosstab(income_data[\"Gender\"], income_data[\"Education\"], normalize=True)\\\n",
    "    .style.background_gradient(cmap='Blues')"
   ],
   "metadata": {
    "collapsed": false,
    "ExecuteTime": {
     "end_time": "2024-02-09T22:07:07.018712Z",
     "start_time": "2024-02-09T22:07:07.007059Z"
    }
   }
  },
  {
   "cell_type": "code",
   "execution_count": 9,
   "outputs": [
    {
     "data": {
      "text/plain": "<pandas.io.formats.style.Styler at 0x7f980975f190>",
      "text/html": "<style type=\"text/css\">\n#T_0d142_row0_col0 {\n  background-color: #d7e6f5;\n  color: #000000;\n}\n#T_0d142_row0_col1 {\n  background-color: #e3eef8;\n  color: #000000;\n}\n#T_0d142_row1_col0, #T_0d142_row1_col1 {\n  background-color: #f7fbff;\n  color: #000000;\n}\n#T_0d142_row2_col0 {\n  background-color: #b8d5ea;\n  color: #000000;\n}\n#T_0d142_row2_col1 {\n  background-color: #add0e6;\n  color: #000000;\n}\n#T_0d142_row3_col0, #T_0d142_row3_col1 {\n  background-color: #08306b;\n  color: #f1f1f1;\n}\n</style>\n<table id=\"T_0d142\">\n  <thead>\n    <tr>\n      <th class=\"blank\" >&nbsp;</th>\n      <th class=\"index_name level0\" >Education</th>\n      <th id=\"T_0d142_level0_col0\" class=\"col_heading level0 col0\" >Graduate</th>\n      <th id=\"T_0d142_level0_col1\" class=\"col_heading level0 col1\" >Not Graduate</th>\n    </tr>\n    <tr>\n      <th class=\"index_name level0\" >Gender</th>\n      <th class=\"index_name level1\" >Married</th>\n      <th class=\"blank col0\" >&nbsp;</th>\n      <th class=\"blank col1\" >&nbsp;</th>\n    </tr>\n  </thead>\n  <tbody>\n    <tr>\n      <th id=\"T_0d142_level0_row0\" class=\"row_heading level0 row0\" rowspan=\"2\">Female</th>\n      <th id=\"T_0d142_level1_row0\" class=\"row_heading level1 row0\" >No</th>\n      <td id=\"T_0d142_row0_col0\" class=\"data row0 col0\" >66</td>\n      <td id=\"T_0d142_row0_col1\" class=\"data row0 col1\" >14</td>\n    </tr>\n    <tr>\n      <th id=\"T_0d142_level1_row1\" class=\"row_heading level1 row1\" >Yes</th>\n      <td id=\"T_0d142_row1_col0\" class=\"data row1 col0\" >25</td>\n      <td id=\"T_0d142_row1_col1\" class=\"data row1 col1\" >6</td>\n    </tr>\n    <tr>\n      <th id=\"T_0d142_level0_row2\" class=\"row_heading level0 row2\" rowspan=\"2\">Male</th>\n      <th id=\"T_0d142_level1_row2\" class=\"row_heading level1 row2\" >No</th>\n      <td id=\"T_0d142_row2_col0\" class=\"data row2 col0\" >99</td>\n      <td id=\"T_0d142_row2_col1\" class=\"data row2 col1\" >31</td>\n    </tr>\n    <tr>\n      <th id=\"T_0d142_level1_row3\" class=\"row_heading level1 row3\" >Yes</th>\n      <td id=\"T_0d142_row3_col0\" class=\"data row3 col0\" >275</td>\n      <td id=\"T_0d142_row3_col1\" class=\"data row3 col1\" >82</td>\n    </tr>\n  </tbody>\n</table>\n"
     },
     "execution_count": 9,
     "metadata": {},
     "output_type": "execute_result"
    }
   ],
   "source": [
    "# We can extend the analysis to more features\n",
    "pd.crosstab([income_data[\"Gender\"], income_data[\"Married\"]], income_data[\"Education\"])\\\n",
    "    .style.background_gradient(cmap='Blues')"
   ],
   "metadata": {
    "collapsed": false,
    "ExecuteTime": {
     "end_time": "2024-02-09T22:06:04.472724Z",
     "start_time": "2024-02-09T22:06:04.444629Z"
    }
   }
  },
  {
   "cell_type": "code",
   "execution_count": null,
   "outputs": [],
   "source": [],
   "metadata": {
    "collapsed": false
   }
  }
 ],
 "metadata": {
  "kernelspec": {
   "display_name": "Python 3",
   "language": "python",
   "name": "python3"
  },
  "language_info": {
   "codemirror_mode": {
    "name": "ipython",
    "version": 3
   },
   "file_extension": ".py",
   "mimetype": "text/x-python",
   "name": "python",
   "nbconvert_exporter": "python",
   "pygments_lexer": "ipython3",
   "version": "3.7.4"
  }
 },
 "nbformat": 4,
 "nbformat_minor": 5
}
