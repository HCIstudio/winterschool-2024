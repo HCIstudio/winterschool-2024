{
 "cells": [
  {
   "cell_type": "markdown",
   "source": [
    "# Winter School 2024 - Pandas Tutorial\n",
    "\n",
    "This notebook introduces basic features of Pandas data set analysis.\n",
    "\n",
    "Authors: Christopher Katins, Mario Sänger, Christopher Lazik, Thomas Kosch\n",
    "Credits to Patrick Schäfer (HU Berlin)"
   ],
   "metadata": {
    "collapsed": false
   }
  },
  {
   "cell_type": "markdown",
   "source": [
    "## Pandas\n",
    "\n",
    "Documentation: [https://pandas.pydata.org/](https://pandas.pydata.org/)"
   ],
   "metadata": {
    "collapsed": false
   }
  },
  {
   "cell_type": "markdown",
   "source": [
    "First setup environment and install packages"
   ],
   "metadata": {
    "collapsed": false
   }
  },
  {
   "cell_type": "code",
   "execution_count": 175,
   "outputs": [],
   "source": [
    "!python -m venv env_ws_tutorial"
   ],
   "metadata": {
    "collapsed": false,
    "ExecuteTime": {
     "end_time": "2024-02-06T14:31:51.049792539Z",
     "start_time": "2024-02-06T14:31:47.288094240Z"
    }
   }
  },
  {
   "cell_type": "code",
   "execution_count": 176,
   "outputs": [],
   "source": [
    "!source env_ws_tutorial/bin/activate"
   ],
   "metadata": {
    "collapsed": false,
    "ExecuteTime": {
     "end_time": "2024-02-06T14:31:53.657085846Z",
     "start_time": "2024-02-06T14:31:52.837717316Z"
    }
   }
  },
  {
   "cell_type": "code",
   "execution_count": 177,
   "outputs": [
    {
     "name": "stdout",
     "output_type": "stream",
     "text": [
      "Requirement already satisfied: pandas in /home/mario/anaconda3/envs/winterschool/lib/python3.10/site-packages (2.1.4)\r\n",
      "Requirement already satisfied: numpy<2,>=1.22.4 in /home/mario/anaconda3/envs/winterschool/lib/python3.10/site-packages (from pandas) (1.26.3)\r\n",
      "Requirement already satisfied: python-dateutil>=2.8.2 in /home/mario/anaconda3/envs/winterschool/lib/python3.10/site-packages (from pandas) (2.8.2)\r\n",
      "Requirement already satisfied: pytz>=2020.1 in /home/mario/anaconda3/envs/winterschool/lib/python3.10/site-packages (from pandas) (2023.3.post1)\r\n",
      "Requirement already satisfied: tzdata>=2022.1 in /home/mario/anaconda3/envs/winterschool/lib/python3.10/site-packages (from pandas) (2023.3)\r\n",
      "Requirement already satisfied: six>=1.5 in /home/mario/anaconda3/envs/winterschool/lib/python3.10/site-packages (from python-dateutil>=2.8.2->pandas) (1.16.0)\r\n"
     ]
    }
   ],
   "source": [
    "!pip install pandas"
   ],
   "metadata": {
    "collapsed": false,
    "ExecuteTime": {
     "end_time": "2024-02-06T14:31:57.010594626Z",
     "start_time": "2024-02-06T14:31:54.457864738Z"
    }
   }
  },
  {
   "cell_type": "markdown",
   "source": [
    "\n",
    "### Series\n",
    "\n",
    "A Pandas Series is a one-dimensional array-like object that can hold data of any type (integer, string, float, python objects, etc.), similar to a column in a spreadsheet or a SQL table. Each element in a Series is associated with an index, which is an array of labels that allows for fast lookup and advanced data manipulation capabilities."
   ],
   "metadata": {
    "collapsed": false
   }
  },
  {
   "cell_type": "code",
   "execution_count": null,
   "outputs": [],
   "source": [
    "import pandas as pd\n",
    "from pandas import Series"
   ],
   "metadata": {
    "collapsed": false
   }
  },
  {
   "cell_type": "code",
   "execution_count": null,
   "id": "raising-contents",
   "metadata": {},
   "outputs": [],
   "source": [
    "l =[7, 'Heisenberg', 3.14, -178971, 'Happy!']\n",
    "s = pd.Series(l)\n",
    "s"
   ]
  },
  {
   "cell_type": "code",
   "execution_count": null,
   "id": "expired-rouge",
   "metadata": {},
   "outputs": [],
   "source": [
    "pd.Series(\n",
    "    [7, 'Heisenberg', 3.14,-178971, 'Happy!'],\n",
    "    index=['A', 'Z', 'C', 'Y', 'E']\n",
    ")"
   ]
  },
  {
   "cell_type": "code",
   "execution_count": null,
   "id": "matched-norway",
   "metadata": {},
   "outputs": [],
   "source": [
    "d = {'Chicago': 1000, \n",
    "     'New York': 1300,\n",
    "     'Portland': 900,\n",
    "     'San Francisco': 1100,\n",
    "     'Austin': 450,\n",
    "     'Boston': None} \n",
    "cities = pd.Series(d) \n",
    "cities"
   ]
  },
  {
   "cell_type": "code",
   "execution_count": null,
   "id": "efficient-setup",
   "metadata": {},
   "outputs": [],
   "source": [
    "cities[cities < 1000]"
   ]
  },
  {
   "cell_type": "markdown",
   "source": [
    "### DataFrames\n",
    "\n",
    "A DataFrame is the primary data structure of Pandas to represent two-dimensional, tabular data with labeled axes (rows and columns) in Python. DataFrames allow for storing and manipulating real-world data sets and offer a wide range of functionalities for data manipulation tasks such as filtering, aggregation, and visualization."
   ],
   "metadata": {
    "collapsed": false
   }
  },
  {
   "cell_type": "markdown",
   "source": [
    "**Creating DataFrames**"
   ],
   "metadata": {
    "collapsed": false
   }
  },
  {
   "cell_type": "code",
   "execution_count": null,
   "id": "lesbian-dylan",
   "metadata": {},
   "outputs": [],
   "source": [
    "data = {'year': [2010, 2011, 2012, 2011, \n",
    "                2012, 2010, 2011, 2012], \n",
    "        'team': ['Bears', 'Bears', 'Bears', \n",
    "                    'Packers', 'Packers',\n",
    "                    'Lions', 'Lions' , 'Lions'], \n",
    "        'wins': [11, 8, 10, 15, 11, 6, 10, 4], \n",
    "        'losses': [5, 8, 6, 1, 5, 10, 6, 12]} \n",
    "football = pd.DataFrame(data)\n",
    "football"
   ]
  },
  {
   "cell_type": "code",
   "execution_count": null,
   "id": "everyday-dominant",
   "metadata": {},
   "outputs": [],
   "source": [
    "football.set_index('year').head()"
   ]
  },
  {
   "cell_type": "code",
   "execution_count": null,
   "outputs": [],
   "source": [
    "football.rename(columns={'year': 'season'})"
   ],
   "metadata": {
    "collapsed": false
   }
  },
  {
   "cell_type": "markdown",
   "source": [
    "**Loading data from a CSV file**"
   ],
   "metadata": {
    "collapsed": false
   }
  },
  {
   "cell_type": "code",
   "execution_count": null,
   "outputs": [],
   "source": [
    "income_data = pd.read_csv(\"data_eng.csv\", sep=\",\")\n",
    "income_data"
   ],
   "metadata": {
    "collapsed": false
   }
  },
  {
   "cell_type": "code",
   "execution_count": null,
   "outputs": [],
   "source": [
    "income_data.set_index(\"Loan_ID\", inplace=True)\n",
    "income_data"
   ],
   "metadata": {
    "collapsed": false
   }
  },
  {
   "cell_type": "markdown",
   "source": [
    "**Accessing / selecting data rows and columns**"
   ],
   "metadata": {
    "collapsed": false
   }
  },
  {
   "cell_type": "code",
   "execution_count": null,
   "outputs": [],
   "source": [
    "# accessing row(s) via index label\n",
    "income_data.loc[\"LP001005\"]"
   ],
   "metadata": {
    "collapsed": false
   }
  },
  {
   "cell_type": "code",
   "execution_count": null,
   "outputs": [],
   "source": [
    "# accessing rows via row id\n",
    "income_data.iloc[0]"
   ],
   "metadata": {
    "collapsed": false
   }
  },
  {
   "cell_type": "code",
   "execution_count": null,
   "outputs": [],
   "source": [
    "# accessing multiple rows\n",
    "income_data.iloc[0:5]"
   ],
   "metadata": {
    "collapsed": false
   }
  },
  {
   "cell_type": "code",
   "execution_count": null,
   "outputs": [],
   "source": [
    "# accessing a column\n",
    "income_data[\"Married\"]"
   ],
   "metadata": {
    "collapsed": false
   }
  },
  {
   "cell_type": "code",
   "execution_count": null,
   "outputs": [],
   "source": [
    "income_data.Gender"
   ],
   "metadata": {
    "collapsed": false
   }
  },
  {
   "cell_type": "code",
   "execution_count": null,
   "outputs": [],
   "source": [
    "income_data[[\"Married\", \"Gender\"]]"
   ],
   "metadata": {
    "collapsed": false
   }
  },
  {
   "cell_type": "code",
   "execution_count": null,
   "outputs": [],
   "source": [
    "# accessing rows via row id\n",
    "income_data.iloc[0:5][[\"Married\", \"Gender\", \"Education\"]]"
   ],
   "metadata": {
    "collapsed": false
   }
  },
  {
   "cell_type": "markdown",
   "source": [
    "**Data inspection**"
   ],
   "metadata": {
    "collapsed": false
   }
  },
  {
   "cell_type": "code",
   "execution_count": null,
   "outputs": [],
   "source": [
    "# Get basic information, e.g. number of entries, short column description, of the data frame\n",
    "income_data.info()"
   ],
   "metadata": {
    "collapsed": false
   }
  },
  {
   "cell_type": "code",
   "execution_count": null,
   "outputs": [],
   "source": [
    "# Highlight basic descriptive statistics of the integer / float columns\n",
    "income_data.describe()"
   ],
   "metadata": {
    "collapsed": false
   }
  },
  {
   "cell_type": "code",
   "execution_count": null,
   "outputs": [],
   "source": [
    "# Access the value distribution of a column\n",
    "income_data[\"Married\"].value_counts(normalize=True)"
   ],
   "metadata": {
    "collapsed": false
   }
  },
  {
   "cell_type": "code",
   "execution_count": null,
   "outputs": [],
   "source": [
    "len(income_data[\"Dependents\"].unique())"
   ],
   "metadata": {
    "collapsed": false
   }
  },
  {
   "cell_type": "code",
   "execution_count": null,
   "outputs": [],
   "source": [
    "income_data[\"Dependents\"].mode()"
   ],
   "metadata": {
    "collapsed": false
   }
  },
  {
   "cell_type": "code",
   "execution_count": null,
   "outputs": [],
   "source": [
    "income_data[\"Dependents\"].value_counts(normalize=True)"
   ],
   "metadata": {
    "collapsed": false
   }
  },
  {
   "cell_type": "code",
   "execution_count": null,
   "outputs": [],
   "source": [
    "# Print default statistics\n",
    "print(income_data[\"ApplicantIncome\"].min())\n",
    "print(income_data[\"ApplicantIncome\"].max())\n",
    "print(income_data[\"ApplicantIncome\"].mean())\n",
    "print(income_data[\"ApplicantIncome\"].median())\n",
    "print(income_data[\"ApplicantIncome\"].quantile(0.25))"
   ],
   "metadata": {
    "collapsed": false
   }
  },
  {
   "cell_type": "code",
   "execution_count": null,
   "outputs": [],
   "source": [
    "# Display missing values per column\n",
    "income_data.isna().sum()"
   ],
   "metadata": {
    "collapsed": false
   }
  },
  {
   "cell_type": "markdown",
   "source": [
    "**Filtering data**"
   ],
   "metadata": {
    "collapsed": false
   }
  },
  {
   "cell_type": "code",
   "execution_count": null,
   "id": "italian-hypothesis",
   "metadata": {},
   "outputs": [],
   "source": [
    "income_data[\"ApplicantIncome\"]>10000"
   ]
  },
  {
   "cell_type": "code",
   "execution_count": null,
   "id": "operational-guest",
   "metadata": {},
   "outputs": [],
   "source": [
    "income_data[income_data[\"ApplicantIncome\"]>10000]"
   ]
  },
  {
   "cell_type": "code",
   "execution_count": null,
   "outputs": [],
   "source": [
    "income_data[(income_data[\"ApplicantIncome\"]>10000) & (income_data[\"Self_Employed\"] == \"Yes\")]"
   ],
   "metadata": {
    "collapsed": false
   }
  },
  {
   "cell_type": "code",
   "execution_count": null,
   "id": "organized-musician",
   "metadata": {},
   "outputs": [],
   "source": [
    "# Accessing rows having no value in Credit_History\n",
    "income_data[income_data[\"Credit_History\"].isna()]"
   ]
  },
  {
   "cell_type": "code",
   "execution_count": null,
   "id": "collaborative-church",
   "metadata": {},
   "outputs": [],
   "source": [
    "# Finding duplicated rows\n",
    "income_data[income_data.duplicated()]"
   ]
  },
  {
   "cell_type": "code",
   "execution_count": null,
   "outputs": [],
   "source": [
    "# Finding duplicated rows restricted to certain columns\n",
    "income_data[income_data.duplicated(subset=[\"Gender\", \"Married\", \"Education\", \"Self_Employed\"], keep=\"first\")]\n"
   ],
   "metadata": {
    "collapsed": false
   }
  },
  {
   "cell_type": "markdown",
   "source": [
    "**Grouping data**"
   ],
   "metadata": {
    "collapsed": false
   }
  },
  {
   "cell_type": "code",
   "execution_count": null,
   "outputs": [],
   "source": [
    "income_data.groupby(\"Gender\")[\"ApplicantIncome\"].mean()"
   ],
   "metadata": {
    "collapsed": false
   }
  },
  {
   "cell_type": "code",
   "execution_count": null,
   "outputs": [],
   "source": [
    "income_data.groupby([\"Gender\", \"Education\"]).count()"
   ],
   "metadata": {
    "collapsed": false
   }
  },
  {
   "cell_type": "markdown",
   "source": [
    "**Sorting data**"
   ],
   "metadata": {
    "collapsed": false
   }
  },
  {
   "cell_type": "code",
   "execution_count": null,
   "outputs": [],
   "source": [
    "income_data.sort_values(\"ApplicantIncome\")"
   ],
   "metadata": {
    "collapsed": false
   }
  },
  {
   "cell_type": "code",
   "execution_count": null,
   "outputs": [],
   "source": [
    "income_data.sort_values([\"Loan_Amount_Term\", \"ApplicantIncome\"], ascending=[False, True])"
   ],
   "metadata": {
    "collapsed": false
   }
  },
  {
   "cell_type": "markdown",
   "source": [
    "**Transforming data**"
   ],
   "metadata": {
    "collapsed": false
   }
  },
  {
   "cell_type": "code",
   "execution_count": null,
   "outputs": [],
   "source": [
    "import math\n",
    "income_data[\"log_income\"] = income_data[\"ApplicantIncome\"].apply(lambda income: math.log(income))\n",
    "income_data[[\"ApplicantIncome\", \"log_income\"]]"
   ],
   "metadata": {
    "collapsed": false
   }
  },
  {
   "cell_type": "code",
   "execution_count": null,
   "outputs": [],
   "source": [
    "def concat(row: Series) -> str:\n",
    "    return str(row[\"Gender\"]) + \"-\" + str(row[\"Married\"])\n",
    "\n",
    "income_data[\"gender_married\"] = income_data.apply(concat, axis=1)\n",
    "income_data[\"gender_married\"]"
   ],
   "metadata": {
    "collapsed": false
   }
  },
  {
   "cell_type": "markdown",
   "source": [],
   "metadata": {
    "collapsed": false
   }
  }
 ],
 "metadata": {
  "kernelspec": {
   "display_name": "Python 3",
   "language": "python",
   "name": "python3"
  },
  "language_info": {
   "codemirror_mode": {
    "name": "ipython",
    "version": 3
   },
   "file_extension": ".py",
   "mimetype": "text/x-python",
   "name": "python",
   "nbconvert_exporter": "python",
   "pygments_lexer": "ipython3",
   "version": "3.7.4"
  }
 },
 "nbformat": 4,
 "nbformat_minor": 5
}
